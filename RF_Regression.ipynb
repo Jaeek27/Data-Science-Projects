{
  "nbformat": 4,
  "nbformat_minor": 0,
  "metadata": {
    "colab": {
      "provenance": [],
      "include_colab_link": true
    },
    "kernelspec": {
      "name": "python3",
      "display_name": "Python 3"
    },
    "language_info": {
      "name": "python"
    }
  },
  "cells": [
    {
      "cell_type": "markdown",
      "metadata": {
        "id": "view-in-github",
        "colab_type": "text"
      },
      "source": [
        "<a href=\"https://colab.research.google.com/github/Jaeek27/Data-Science-Projects/blob/main/RF_Regression.ipynb\" target=\"_parent\"><img src=\"https://colab.research.google.com/assets/colab-badge.svg\" alt=\"Open In Colab\"/></a>"
      ]
    },
    {
      "cell_type": "code",
      "execution_count": null,
      "metadata": {
        "id": "U1A_7R_kXMJi"
      },
      "outputs": [],
      "source": [
        "import numpy as np\n",
        "import pandas as pd\n",
        "import matplotlib.pyplot as plt\n",
        "import seaborn as sns\n",
        "sns.set()  #if you want to use seaborn themes with matplotlib functions\n"
      ]
    },
    {
      "cell_type": "code",
      "source": [
        "df=pd.read_csv(\"/content/Logan_housing.csv\")"
      ],
      "metadata": {
        "id": "NK9zlQ0xX2yQ"
      },
      "execution_count": null,
      "outputs": []
    },
    {
      "cell_type": "code",
      "source": [
        "df.head(10)"
      ],
      "metadata": {
        "colab": {
          "base_uri": "https://localhost:8080/",
          "height": 479
        },
        "id": "xmXVsRL-X_zM",
        "outputId": "7b0bf038-a2fc-4d7b-cf77-37041df35ba7"
      },
      "execution_count": null,
      "outputs": [
        {
          "output_type": "execute_result",
          "data": {
            "text/plain": [
              "   Sold Price  DOM  Garage Capacity  HOA Fee Irregular Shape Quadrant  \\\n",
              "0      176000    5                2        0              No       NW   \n",
              "1      225000    6                2        0              No       NW   \n",
              "2      274900   14                2        0              No       NW   \n",
              "3      175000   16                1        0              No       NW   \n",
              "4      179000   29                0        0              No       NW   \n",
              "5      299900  130                2        0              No       NW   \n",
              "6      424000  463                6        0              No       NW   \n",
              "7      775000   37                2        0              No       SE   \n",
              "8      611000   38                2        0              No       SE   \n",
              "9     1131310  115                2        0             Yes       SE   \n",
              "\n",
              "  School District              Sold Terms  Total Bedrooms  Total Bathrooms  \\\n",
              "0           Cache                     FHA               3                1   \n",
              "1           Cache            Conventional               4                2   \n",
              "2           Cache            Conventional               3                1   \n",
              "3           Cache  USDA Rural Development               4                1   \n",
              "4           Cache                    Cash               4                2   \n",
              "5           Cache            Conventional               6                3   \n",
              "6           Cache            Conventional               4                4   \n",
              "7           Cache            Conventional               5                4   \n",
              "8           Cache                      VA               5                3   \n",
              "9           Cache                    Cash               4                2   \n",
              "\n",
              "   Total Square Feet  Year Built    Zip  year_sold  month_sold  \\\n",
              "0               1031        1974  84335       2018           9   \n",
              "1               2091        1995  84335       2018           7   \n",
              "2               2016        1980  84335       2018          11   \n",
              "3               1920        1978  84335       2018           6   \n",
              "4               1329        1976  84335       2018           9   \n",
              "5               2765        1926  84335       2018           9   \n",
              "6               5000        1933  84335       2019          12   \n",
              "7               5180        1999  84328       2020           8   \n",
              "8               4308        2015  84328       2020          11   \n",
              "9               2116        1985  84328       2020           4   \n",
              "\n",
              "   built_after_2000  \n",
              "0                 0  \n",
              "1                 0  \n",
              "2                 0  \n",
              "3                 0  \n",
              "4                 0  \n",
              "5                 0  \n",
              "6                 0  \n",
              "7                 0  \n",
              "8                 1  \n",
              "9                 0  "
            ],
            "text/html": [
              "\n",
              "  <div id=\"df-3d101e75-fd30-44e0-9327-881fe1ba6dea\">\n",
              "    <div class=\"colab-df-container\">\n",
              "      <div>\n",
              "<style scoped>\n",
              "    .dataframe tbody tr th:only-of-type {\n",
              "        vertical-align: middle;\n",
              "    }\n",
              "\n",
              "    .dataframe tbody tr th {\n",
              "        vertical-align: top;\n",
              "    }\n",
              "\n",
              "    .dataframe thead th {\n",
              "        text-align: right;\n",
              "    }\n",
              "</style>\n",
              "<table border=\"1\" class=\"dataframe\">\n",
              "  <thead>\n",
              "    <tr style=\"text-align: right;\">\n",
              "      <th></th>\n",
              "      <th>Sold Price</th>\n",
              "      <th>DOM</th>\n",
              "      <th>Garage Capacity</th>\n",
              "      <th>HOA Fee</th>\n",
              "      <th>Irregular Shape</th>\n",
              "      <th>Quadrant</th>\n",
              "      <th>School District</th>\n",
              "      <th>Sold Terms</th>\n",
              "      <th>Total Bedrooms</th>\n",
              "      <th>Total Bathrooms</th>\n",
              "      <th>Total Square Feet</th>\n",
              "      <th>Year Built</th>\n",
              "      <th>Zip</th>\n",
              "      <th>year_sold</th>\n",
              "      <th>month_sold</th>\n",
              "      <th>built_after_2000</th>\n",
              "    </tr>\n",
              "  </thead>\n",
              "  <tbody>\n",
              "    <tr>\n",
              "      <th>0</th>\n",
              "      <td>176000</td>\n",
              "      <td>5</td>\n",
              "      <td>2</td>\n",
              "      <td>0</td>\n",
              "      <td>No</td>\n",
              "      <td>NW</td>\n",
              "      <td>Cache</td>\n",
              "      <td>FHA</td>\n",
              "      <td>3</td>\n",
              "      <td>1</td>\n",
              "      <td>1031</td>\n",
              "      <td>1974</td>\n",
              "      <td>84335</td>\n",
              "      <td>2018</td>\n",
              "      <td>9</td>\n",
              "      <td>0</td>\n",
              "    </tr>\n",
              "    <tr>\n",
              "      <th>1</th>\n",
              "      <td>225000</td>\n",
              "      <td>6</td>\n",
              "      <td>2</td>\n",
              "      <td>0</td>\n",
              "      <td>No</td>\n",
              "      <td>NW</td>\n",
              "      <td>Cache</td>\n",
              "      <td>Conventional</td>\n",
              "      <td>4</td>\n",
              "      <td>2</td>\n",
              "      <td>2091</td>\n",
              "      <td>1995</td>\n",
              "      <td>84335</td>\n",
              "      <td>2018</td>\n",
              "      <td>7</td>\n",
              "      <td>0</td>\n",
              "    </tr>\n",
              "    <tr>\n",
              "      <th>2</th>\n",
              "      <td>274900</td>\n",
              "      <td>14</td>\n",
              "      <td>2</td>\n",
              "      <td>0</td>\n",
              "      <td>No</td>\n",
              "      <td>NW</td>\n",
              "      <td>Cache</td>\n",
              "      <td>Conventional</td>\n",
              "      <td>3</td>\n",
              "      <td>1</td>\n",
              "      <td>2016</td>\n",
              "      <td>1980</td>\n",
              "      <td>84335</td>\n",
              "      <td>2018</td>\n",
              "      <td>11</td>\n",
              "      <td>0</td>\n",
              "    </tr>\n",
              "    <tr>\n",
              "      <th>3</th>\n",
              "      <td>175000</td>\n",
              "      <td>16</td>\n",
              "      <td>1</td>\n",
              "      <td>0</td>\n",
              "      <td>No</td>\n",
              "      <td>NW</td>\n",
              "      <td>Cache</td>\n",
              "      <td>USDA Rural Development</td>\n",
              "      <td>4</td>\n",
              "      <td>1</td>\n",
              "      <td>1920</td>\n",
              "      <td>1978</td>\n",
              "      <td>84335</td>\n",
              "      <td>2018</td>\n",
              "      <td>6</td>\n",
              "      <td>0</td>\n",
              "    </tr>\n",
              "    <tr>\n",
              "      <th>4</th>\n",
              "      <td>179000</td>\n",
              "      <td>29</td>\n",
              "      <td>0</td>\n",
              "      <td>0</td>\n",
              "      <td>No</td>\n",
              "      <td>NW</td>\n",
              "      <td>Cache</td>\n",
              "      <td>Cash</td>\n",
              "      <td>4</td>\n",
              "      <td>2</td>\n",
              "      <td>1329</td>\n",
              "      <td>1976</td>\n",
              "      <td>84335</td>\n",
              "      <td>2018</td>\n",
              "      <td>9</td>\n",
              "      <td>0</td>\n",
              "    </tr>\n",
              "    <tr>\n",
              "      <th>5</th>\n",
              "      <td>299900</td>\n",
              "      <td>130</td>\n",
              "      <td>2</td>\n",
              "      <td>0</td>\n",
              "      <td>No</td>\n",
              "      <td>NW</td>\n",
              "      <td>Cache</td>\n",
              "      <td>Conventional</td>\n",
              "      <td>6</td>\n",
              "      <td>3</td>\n",
              "      <td>2765</td>\n",
              "      <td>1926</td>\n",
              "      <td>84335</td>\n",
              "      <td>2018</td>\n",
              "      <td>9</td>\n",
              "      <td>0</td>\n",
              "    </tr>\n",
              "    <tr>\n",
              "      <th>6</th>\n",
              "      <td>424000</td>\n",
              "      <td>463</td>\n",
              "      <td>6</td>\n",
              "      <td>0</td>\n",
              "      <td>No</td>\n",
              "      <td>NW</td>\n",
              "      <td>Cache</td>\n",
              "      <td>Conventional</td>\n",
              "      <td>4</td>\n",
              "      <td>4</td>\n",
              "      <td>5000</td>\n",
              "      <td>1933</td>\n",
              "      <td>84335</td>\n",
              "      <td>2019</td>\n",
              "      <td>12</td>\n",
              "      <td>0</td>\n",
              "    </tr>\n",
              "    <tr>\n",
              "      <th>7</th>\n",
              "      <td>775000</td>\n",
              "      <td>37</td>\n",
              "      <td>2</td>\n",
              "      <td>0</td>\n",
              "      <td>No</td>\n",
              "      <td>SE</td>\n",
              "      <td>Cache</td>\n",
              "      <td>Conventional</td>\n",
              "      <td>5</td>\n",
              "      <td>4</td>\n",
              "      <td>5180</td>\n",
              "      <td>1999</td>\n",
              "      <td>84328</td>\n",
              "      <td>2020</td>\n",
              "      <td>8</td>\n",
              "      <td>0</td>\n",
              "    </tr>\n",
              "    <tr>\n",
              "      <th>8</th>\n",
              "      <td>611000</td>\n",
              "      <td>38</td>\n",
              "      <td>2</td>\n",
              "      <td>0</td>\n",
              "      <td>No</td>\n",
              "      <td>SE</td>\n",
              "      <td>Cache</td>\n",
              "      <td>VA</td>\n",
              "      <td>5</td>\n",
              "      <td>3</td>\n",
              "      <td>4308</td>\n",
              "      <td>2015</td>\n",
              "      <td>84328</td>\n",
              "      <td>2020</td>\n",
              "      <td>11</td>\n",
              "      <td>1</td>\n",
              "    </tr>\n",
              "    <tr>\n",
              "      <th>9</th>\n",
              "      <td>1131310</td>\n",
              "      <td>115</td>\n",
              "      <td>2</td>\n",
              "      <td>0</td>\n",
              "      <td>Yes</td>\n",
              "      <td>SE</td>\n",
              "      <td>Cache</td>\n",
              "      <td>Cash</td>\n",
              "      <td>4</td>\n",
              "      <td>2</td>\n",
              "      <td>2116</td>\n",
              "      <td>1985</td>\n",
              "      <td>84328</td>\n",
              "      <td>2020</td>\n",
              "      <td>4</td>\n",
              "      <td>0</td>\n",
              "    </tr>\n",
              "  </tbody>\n",
              "</table>\n",
              "</div>\n",
              "      <button class=\"colab-df-convert\" onclick=\"convertToInteractive('df-3d101e75-fd30-44e0-9327-881fe1ba6dea')\"\n",
              "              title=\"Convert this dataframe to an interactive table.\"\n",
              "              style=\"display:none;\">\n",
              "        \n",
              "  <svg xmlns=\"http://www.w3.org/2000/svg\" height=\"24px\"viewBox=\"0 0 24 24\"\n",
              "       width=\"24px\">\n",
              "    <path d=\"M0 0h24v24H0V0z\" fill=\"none\"/>\n",
              "    <path d=\"M18.56 5.44l.94 2.06.94-2.06 2.06-.94-2.06-.94-.94-2.06-.94 2.06-2.06.94zm-11 1L8.5 8.5l.94-2.06 2.06-.94-2.06-.94L8.5 2.5l-.94 2.06-2.06.94zm10 10l.94 2.06.94-2.06 2.06-.94-2.06-.94-.94-2.06-.94 2.06-2.06.94z\"/><path d=\"M17.41 7.96l-1.37-1.37c-.4-.4-.92-.59-1.43-.59-.52 0-1.04.2-1.43.59L10.3 9.45l-7.72 7.72c-.78.78-.78 2.05 0 2.83L4 21.41c.39.39.9.59 1.41.59.51 0 1.02-.2 1.41-.59l7.78-7.78 2.81-2.81c.8-.78.8-2.07 0-2.86zM5.41 20L4 18.59l7.72-7.72 1.47 1.35L5.41 20z\"/>\n",
              "  </svg>\n",
              "      </button>\n",
              "      \n",
              "  <style>\n",
              "    .colab-df-container {\n",
              "      display:flex;\n",
              "      flex-wrap:wrap;\n",
              "      gap: 12px;\n",
              "    }\n",
              "\n",
              "    .colab-df-convert {\n",
              "      background-color: #E8F0FE;\n",
              "      border: none;\n",
              "      border-radius: 50%;\n",
              "      cursor: pointer;\n",
              "      display: none;\n",
              "      fill: #1967D2;\n",
              "      height: 32px;\n",
              "      padding: 0 0 0 0;\n",
              "      width: 32px;\n",
              "    }\n",
              "\n",
              "    .colab-df-convert:hover {\n",
              "      background-color: #E2EBFA;\n",
              "      box-shadow: 0px 1px 2px rgba(60, 64, 67, 0.3), 0px 1px 3px 1px rgba(60, 64, 67, 0.15);\n",
              "      fill: #174EA6;\n",
              "    }\n",
              "\n",
              "    [theme=dark] .colab-df-convert {\n",
              "      background-color: #3B4455;\n",
              "      fill: #D2E3FC;\n",
              "    }\n",
              "\n",
              "    [theme=dark] .colab-df-convert:hover {\n",
              "      background-color: #434B5C;\n",
              "      box-shadow: 0px 1px 3px 1px rgba(0, 0, 0, 0.15);\n",
              "      filter: drop-shadow(0px 1px 2px rgba(0, 0, 0, 0.3));\n",
              "      fill: #FFFFFF;\n",
              "    }\n",
              "  </style>\n",
              "\n",
              "      <script>\n",
              "        const buttonEl =\n",
              "          document.querySelector('#df-3d101e75-fd30-44e0-9327-881fe1ba6dea button.colab-df-convert');\n",
              "        buttonEl.style.display =\n",
              "          google.colab.kernel.accessAllowed ? 'block' : 'none';\n",
              "\n",
              "        async function convertToInteractive(key) {\n",
              "          const element = document.querySelector('#df-3d101e75-fd30-44e0-9327-881fe1ba6dea');\n",
              "          const dataTable =\n",
              "            await google.colab.kernel.invokeFunction('convertToInteractive',\n",
              "                                                     [key], {});\n",
              "          if (!dataTable) return;\n",
              "\n",
              "          const docLinkHtml = 'Like what you see? Visit the ' +\n",
              "            '<a target=\"_blank\" href=https://colab.research.google.com/notebooks/data_table.ipynb>data table notebook</a>'\n",
              "            + ' to learn more about interactive tables.';\n",
              "          element.innerHTML = '';\n",
              "          dataTable['output_type'] = 'display_data';\n",
              "          await google.colab.output.renderOutput(dataTable, element);\n",
              "          const docLink = document.createElement('div');\n",
              "          docLink.innerHTML = docLinkHtml;\n",
              "          element.appendChild(docLink);\n",
              "        }\n",
              "      </script>\n",
              "    </div>\n",
              "  </div>\n",
              "  "
            ]
          },
          "metadata": {},
          "execution_count": 3
        }
      ]
    },
    {
      "cell_type": "code",
      "source": [
        "df.info()"
      ],
      "metadata": {
        "colab": {
          "base_uri": "https://localhost:8080/"
        },
        "id": "j2xGFoUhaXpI",
        "outputId": "7d47cec8-ec2a-4cd5-ffc0-12ea2764258d"
      },
      "execution_count": null,
      "outputs": [
        {
          "output_type": "stream",
          "name": "stdout",
          "text": [
            "<class 'pandas.core.frame.DataFrame'>\n",
            "RangeIndex: 4110 entries, 0 to 4109\n",
            "Data columns (total 16 columns):\n",
            " #   Column             Non-Null Count  Dtype \n",
            "---  ------             --------------  ----- \n",
            " 0   Sold Price         4110 non-null   int64 \n",
            " 1   DOM                4110 non-null   int64 \n",
            " 2   Garage Capacity    4110 non-null   int64 \n",
            " 3   HOA Fee            4110 non-null   int64 \n",
            " 4   Irregular Shape    4110 non-null   object\n",
            " 5   Quadrant           4110 non-null   object\n",
            " 6   School District    4110 non-null   object\n",
            " 7   Sold Terms         4110 non-null   object\n",
            " 8   Total Bedrooms     4110 non-null   int64 \n",
            " 9   Total Bathrooms    4110 non-null   int64 \n",
            " 10  Total Square Feet  4110 non-null   int64 \n",
            " 11  Year Built         4110 non-null   int64 \n",
            " 12  Zip                4110 non-null   int64 \n",
            " 13  year_sold          4110 non-null   int64 \n",
            " 14  month_sold         4110 non-null   int64 \n",
            " 15  built_after_2000   4110 non-null   int64 \n",
            "dtypes: int64(12), object(4)\n",
            "memory usage: 513.9+ KB\n"
          ]
        }
      ]
    },
    {
      "cell_type": "code",
      "source": [
        "df.isnull().sum()/len(df)"
      ],
      "metadata": {
        "colab": {
          "base_uri": "https://localhost:8080/"
        },
        "id": "pJWnmsTJaZV-",
        "outputId": "c062c29c-88df-43dd-dc27-1b40211259c4"
      },
      "execution_count": null,
      "outputs": [
        {
          "output_type": "execute_result",
          "data": {
            "text/plain": [
              "Sold Price           0.0\n",
              "DOM                  0.0\n",
              "Garage Capacity      0.0\n",
              "HOA Fee              0.0\n",
              "Irregular Shape      0.0\n",
              "Quadrant             0.0\n",
              "School District      0.0\n",
              "Sold Terms           0.0\n",
              "Total Bedrooms       0.0\n",
              "Total Bathrooms      0.0\n",
              "Total Square Feet    0.0\n",
              "Year Built           0.0\n",
              "Zip                  0.0\n",
              "year_sold            0.0\n",
              "month_sold           0.0\n",
              "built_after_2000     0.0\n",
              "dtype: float64"
            ]
          },
          "metadata": {},
          "execution_count": 5
        }
      ]
    },
    {
      "cell_type": "code",
      "source": [
        "sum(df.duplicated())"
      ],
      "metadata": {
        "colab": {
          "base_uri": "https://localhost:8080/"
        },
        "id": "wyZ3Og0gabs5",
        "outputId": "68a33751-f722-45e2-81ba-e58581faba58"
      },
      "execution_count": null,
      "outputs": [
        {
          "output_type": "execute_result",
          "data": {
            "text/plain": [
              "2"
            ]
          },
          "metadata": {},
          "execution_count": 6
        }
      ]
    },
    {
      "cell_type": "code",
      "source": [
        "# dropping the duplicates:\n",
        "df.drop_duplicates(inplace=True)"
      ],
      "metadata": {
        "id": "qE1CF9DQaeFB"
      },
      "execution_count": null,
      "outputs": []
    },
    {
      "cell_type": "code",
      "source": [
        "df.info()"
      ],
      "metadata": {
        "colab": {
          "base_uri": "https://localhost:8080/"
        },
        "id": "NKzAS0AsEkig",
        "outputId": "dbc0ee63-ccce-4d5d-8739-9d84fc26f46e"
      },
      "execution_count": null,
      "outputs": [
        {
          "output_type": "stream",
          "name": "stdout",
          "text": [
            "<class 'pandas.core.frame.DataFrame'>\n",
            "Int64Index: 4108 entries, 0 to 4109\n",
            "Data columns (total 16 columns):\n",
            " #   Column             Non-Null Count  Dtype  \n",
            "---  ------             --------------  -----  \n",
            " 0   Sold Price         4108 non-null   int64  \n",
            " 1   DOM                4108 non-null   int64  \n",
            " 2   Garage Capacity    4108 non-null   int64  \n",
            " 3   HOA Fee            4108 non-null   int64  \n",
            " 4   Irregular Shape    4108 non-null   float64\n",
            " 5   Quadrant           4108 non-null   float64\n",
            " 6   School District    4108 non-null   float64\n",
            " 7   Sold Terms         4108 non-null   float64\n",
            " 8   Total Bedrooms     4108 non-null   int64  \n",
            " 9   Total Bathrooms    4108 non-null   int64  \n",
            " 10  Total Square Feet  4108 non-null   int64  \n",
            " 11  Year Built         4108 non-null   int64  \n",
            " 12  Zip                4108 non-null   float64\n",
            " 13  year_sold          4108 non-null   int64  \n",
            " 14  month_sold         4108 non-null   int64  \n",
            " 15  built_after_2000   4108 non-null   int64  \n",
            "dtypes: float64(5), int64(11)\n",
            "memory usage: 545.6 KB\n"
          ]
        }
      ]
    },
    {
      "cell_type": "code",
      "source": [
        "df.nunique()"
      ],
      "metadata": {
        "colab": {
          "base_uri": "https://localhost:8080/"
        },
        "id": "cYOy5Gyvafo-",
        "outputId": "c9e4eee7-5165-4c21-b9e6-3ffaa931b770"
      },
      "execution_count": null,
      "outputs": [
        {
          "output_type": "execute_result",
          "data": {
            "text/plain": [
              "Sold Price           1217\n",
              "DOM                   248\n",
              "Garage Capacity        14\n",
              "HOA Fee                96\n",
              "Irregular Shape         2\n",
              "Quadrant                4\n",
              "School District         2\n",
              "Sold Terms              6\n",
              "Total Bedrooms          9\n",
              "Total Bathrooms         7\n",
              "Total Square Feet    2009\n",
              "Year Built            136\n",
              "Zip                    16\n",
              "year_sold               3\n",
              "month_sold             12\n",
              "built_after_2000        2\n",
              "dtype: int64"
            ]
          },
          "metadata": {},
          "execution_count": 8
        }
      ]
    },
    {
      "cell_type": "markdown",
      "source": [
        "Encode ordinal categorical features as an integer array.\n",
        "\n",
        "In random forest we don't need to transfer the categorical variables into dummy variables (using one-hot-encoding). However, the algorithm is not able to handel ordinal data. We should transform ordinal categorical variables into quantitative variables"
      ],
      "metadata": {
        "id": "Ly-1XEiXakOG"
      }
    },
    {
      "cell_type": "code",
      "source": [
        "df.head()"
      ],
      "metadata": {
        "colab": {
          "base_uri": "https://localhost:8080/",
          "height": 322
        },
        "id": "kE-QrcuzahR9",
        "outputId": "7560ae9d-b824-4bd1-ed1a-b8c129e269fd"
      },
      "execution_count": null,
      "outputs": [
        {
          "output_type": "execute_result",
          "data": {
            "text/plain": [
              "   Sold Price  DOM  Garage Capacity  HOA Fee Irregular Shape Quadrant  \\\n",
              "0      176000    5                2        0              No       NW   \n",
              "1      225000    6                2        0              No       NW   \n",
              "2      274900   14                2        0              No       NW   \n",
              "3      175000   16                1        0              No       NW   \n",
              "4      179000   29                0        0              No       NW   \n",
              "\n",
              "  School District              Sold Terms  Total Bedrooms  Total Bathrooms  \\\n",
              "0           Cache                     FHA               3                1   \n",
              "1           Cache            Conventional               4                2   \n",
              "2           Cache            Conventional               3                1   \n",
              "3           Cache  USDA Rural Development               4                1   \n",
              "4           Cache                    Cash               4                2   \n",
              "\n",
              "   Total Square Feet  Year Built    Zip  year_sold  month_sold  \\\n",
              "0               1031        1974  84335       2018           9   \n",
              "1               2091        1995  84335       2018           7   \n",
              "2               2016        1980  84335       2018          11   \n",
              "3               1920        1978  84335       2018           6   \n",
              "4               1329        1976  84335       2018           9   \n",
              "\n",
              "   built_after_2000  \n",
              "0                 0  \n",
              "1                 0  \n",
              "2                 0  \n",
              "3                 0  \n",
              "4                 0  "
            ],
            "text/html": [
              "\n",
              "  <div id=\"df-bd916e4d-73cb-4dd7-bf6e-3c908c0cde69\">\n",
              "    <div class=\"colab-df-container\">\n",
              "      <div>\n",
              "<style scoped>\n",
              "    .dataframe tbody tr th:only-of-type {\n",
              "        vertical-align: middle;\n",
              "    }\n",
              "\n",
              "    .dataframe tbody tr th {\n",
              "        vertical-align: top;\n",
              "    }\n",
              "\n",
              "    .dataframe thead th {\n",
              "        text-align: right;\n",
              "    }\n",
              "</style>\n",
              "<table border=\"1\" class=\"dataframe\">\n",
              "  <thead>\n",
              "    <tr style=\"text-align: right;\">\n",
              "      <th></th>\n",
              "      <th>Sold Price</th>\n",
              "      <th>DOM</th>\n",
              "      <th>Garage Capacity</th>\n",
              "      <th>HOA Fee</th>\n",
              "      <th>Irregular Shape</th>\n",
              "      <th>Quadrant</th>\n",
              "      <th>School District</th>\n",
              "      <th>Sold Terms</th>\n",
              "      <th>Total Bedrooms</th>\n",
              "      <th>Total Bathrooms</th>\n",
              "      <th>Total Square Feet</th>\n",
              "      <th>Year Built</th>\n",
              "      <th>Zip</th>\n",
              "      <th>year_sold</th>\n",
              "      <th>month_sold</th>\n",
              "      <th>built_after_2000</th>\n",
              "    </tr>\n",
              "  </thead>\n",
              "  <tbody>\n",
              "    <tr>\n",
              "      <th>0</th>\n",
              "      <td>176000</td>\n",
              "      <td>5</td>\n",
              "      <td>2</td>\n",
              "      <td>0</td>\n",
              "      <td>No</td>\n",
              "      <td>NW</td>\n",
              "      <td>Cache</td>\n",
              "      <td>FHA</td>\n",
              "      <td>3</td>\n",
              "      <td>1</td>\n",
              "      <td>1031</td>\n",
              "      <td>1974</td>\n",
              "      <td>84335</td>\n",
              "      <td>2018</td>\n",
              "      <td>9</td>\n",
              "      <td>0</td>\n",
              "    </tr>\n",
              "    <tr>\n",
              "      <th>1</th>\n",
              "      <td>225000</td>\n",
              "      <td>6</td>\n",
              "      <td>2</td>\n",
              "      <td>0</td>\n",
              "      <td>No</td>\n",
              "      <td>NW</td>\n",
              "      <td>Cache</td>\n",
              "      <td>Conventional</td>\n",
              "      <td>4</td>\n",
              "      <td>2</td>\n",
              "      <td>2091</td>\n",
              "      <td>1995</td>\n",
              "      <td>84335</td>\n",
              "      <td>2018</td>\n",
              "      <td>7</td>\n",
              "      <td>0</td>\n",
              "    </tr>\n",
              "    <tr>\n",
              "      <th>2</th>\n",
              "      <td>274900</td>\n",
              "      <td>14</td>\n",
              "      <td>2</td>\n",
              "      <td>0</td>\n",
              "      <td>No</td>\n",
              "      <td>NW</td>\n",
              "      <td>Cache</td>\n",
              "      <td>Conventional</td>\n",
              "      <td>3</td>\n",
              "      <td>1</td>\n",
              "      <td>2016</td>\n",
              "      <td>1980</td>\n",
              "      <td>84335</td>\n",
              "      <td>2018</td>\n",
              "      <td>11</td>\n",
              "      <td>0</td>\n",
              "    </tr>\n",
              "    <tr>\n",
              "      <th>3</th>\n",
              "      <td>175000</td>\n",
              "      <td>16</td>\n",
              "      <td>1</td>\n",
              "      <td>0</td>\n",
              "      <td>No</td>\n",
              "      <td>NW</td>\n",
              "      <td>Cache</td>\n",
              "      <td>USDA Rural Development</td>\n",
              "      <td>4</td>\n",
              "      <td>1</td>\n",
              "      <td>1920</td>\n",
              "      <td>1978</td>\n",
              "      <td>84335</td>\n",
              "      <td>2018</td>\n",
              "      <td>6</td>\n",
              "      <td>0</td>\n",
              "    </tr>\n",
              "    <tr>\n",
              "      <th>4</th>\n",
              "      <td>179000</td>\n",
              "      <td>29</td>\n",
              "      <td>0</td>\n",
              "      <td>0</td>\n",
              "      <td>No</td>\n",
              "      <td>NW</td>\n",
              "      <td>Cache</td>\n",
              "      <td>Cash</td>\n",
              "      <td>4</td>\n",
              "      <td>2</td>\n",
              "      <td>1329</td>\n",
              "      <td>1976</td>\n",
              "      <td>84335</td>\n",
              "      <td>2018</td>\n",
              "      <td>9</td>\n",
              "      <td>0</td>\n",
              "    </tr>\n",
              "  </tbody>\n",
              "</table>\n",
              "</div>\n",
              "      <button class=\"colab-df-convert\" onclick=\"convertToInteractive('df-bd916e4d-73cb-4dd7-bf6e-3c908c0cde69')\"\n",
              "              title=\"Convert this dataframe to an interactive table.\"\n",
              "              style=\"display:none;\">\n",
              "        \n",
              "  <svg xmlns=\"http://www.w3.org/2000/svg\" height=\"24px\"viewBox=\"0 0 24 24\"\n",
              "       width=\"24px\">\n",
              "    <path d=\"M0 0h24v24H0V0z\" fill=\"none\"/>\n",
              "    <path d=\"M18.56 5.44l.94 2.06.94-2.06 2.06-.94-2.06-.94-.94-2.06-.94 2.06-2.06.94zm-11 1L8.5 8.5l.94-2.06 2.06-.94-2.06-.94L8.5 2.5l-.94 2.06-2.06.94zm10 10l.94 2.06.94-2.06 2.06-.94-2.06-.94-.94-2.06-.94 2.06-2.06.94z\"/><path d=\"M17.41 7.96l-1.37-1.37c-.4-.4-.92-.59-1.43-.59-.52 0-1.04.2-1.43.59L10.3 9.45l-7.72 7.72c-.78.78-.78 2.05 0 2.83L4 21.41c.39.39.9.59 1.41.59.51 0 1.02-.2 1.41-.59l7.78-7.78 2.81-2.81c.8-.78.8-2.07 0-2.86zM5.41 20L4 18.59l7.72-7.72 1.47 1.35L5.41 20z\"/>\n",
              "  </svg>\n",
              "      </button>\n",
              "      \n",
              "  <style>\n",
              "    .colab-df-container {\n",
              "      display:flex;\n",
              "      flex-wrap:wrap;\n",
              "      gap: 12px;\n",
              "    }\n",
              "\n",
              "    .colab-df-convert {\n",
              "      background-color: #E8F0FE;\n",
              "      border: none;\n",
              "      border-radius: 50%;\n",
              "      cursor: pointer;\n",
              "      display: none;\n",
              "      fill: #1967D2;\n",
              "      height: 32px;\n",
              "      padding: 0 0 0 0;\n",
              "      width: 32px;\n",
              "    }\n",
              "\n",
              "    .colab-df-convert:hover {\n",
              "      background-color: #E2EBFA;\n",
              "      box-shadow: 0px 1px 2px rgba(60, 64, 67, 0.3), 0px 1px 3px 1px rgba(60, 64, 67, 0.15);\n",
              "      fill: #174EA6;\n",
              "    }\n",
              "\n",
              "    [theme=dark] .colab-df-convert {\n",
              "      background-color: #3B4455;\n",
              "      fill: #D2E3FC;\n",
              "    }\n",
              "\n",
              "    [theme=dark] .colab-df-convert:hover {\n",
              "      background-color: #434B5C;\n",
              "      box-shadow: 0px 1px 3px 1px rgba(0, 0, 0, 0.15);\n",
              "      filter: drop-shadow(0px 1px 2px rgba(0, 0, 0, 0.3));\n",
              "      fill: #FFFFFF;\n",
              "    }\n",
              "  </style>\n",
              "\n",
              "      <script>\n",
              "        const buttonEl =\n",
              "          document.querySelector('#df-bd916e4d-73cb-4dd7-bf6e-3c908c0cde69 button.colab-df-convert');\n",
              "        buttonEl.style.display =\n",
              "          google.colab.kernel.accessAllowed ? 'block' : 'none';\n",
              "\n",
              "        async function convertToInteractive(key) {\n",
              "          const element = document.querySelector('#df-bd916e4d-73cb-4dd7-bf6e-3c908c0cde69');\n",
              "          const dataTable =\n",
              "            await google.colab.kernel.invokeFunction('convertToInteractive',\n",
              "                                                     [key], {});\n",
              "          if (!dataTable) return;\n",
              "\n",
              "          const docLinkHtml = 'Like what you see? Visit the ' +\n",
              "            '<a target=\"_blank\" href=https://colab.research.google.com/notebooks/data_table.ipynb>data table notebook</a>'\n",
              "            + ' to learn more about interactive tables.';\n",
              "          element.innerHTML = '';\n",
              "          dataTable['output_type'] = 'display_data';\n",
              "          await google.colab.output.renderOutput(dataTable, element);\n",
              "          const docLink = document.createElement('div');\n",
              "          docLink.innerHTML = docLinkHtml;\n",
              "          element.appendChild(docLink);\n",
              "        }\n",
              "      </script>\n",
              "    </div>\n",
              "  </div>\n",
              "  "
            ]
          },
          "metadata": {},
          "execution_count": 9
        }
      ]
    },
    {
      "cell_type": "code",
      "source": [
        "ordinal_categorical = ['Irregular Shape', 'Quadrant', 'School District', 'Sold Terms', 'Zip']"
      ],
      "metadata": {
        "id": "R5JGpzvcbQBc"
      },
      "execution_count": null,
      "outputs": []
    },
    {
      "cell_type": "code",
      "source": [
        "from sklearn.preprocessing import OrdinalEncoder"
      ],
      "metadata": {
        "id": "GEYiwraRbSQe"
      },
      "execution_count": null,
      "outputs": []
    },
    {
      "cell_type": "code",
      "source": [
        "enc = OrdinalEncoder()"
      ],
      "metadata": {
        "id": "lFGkUjUpbT3Y"
      },
      "execution_count": null,
      "outputs": []
    },
    {
      "cell_type": "code",
      "source": [
        "df[ordinal_categorical]= enc.fit_transform(df[ordinal_categorical])"
      ],
      "metadata": {
        "id": "fTLdPuS9bVk5"
      },
      "execution_count": null,
      "outputs": []
    },
    {
      "cell_type": "code",
      "source": [
        "df.head()"
      ],
      "metadata": {
        "colab": {
          "base_uri": "https://localhost:8080/",
          "height": 285
        },
        "id": "0eNGIgoDbXJ9",
        "outputId": "ae44554b-c033-484b-8233-5ce5c3881157"
      },
      "execution_count": null,
      "outputs": [
        {
          "output_type": "execute_result",
          "data": {
            "text/plain": [
              "   Sold Price  DOM  Garage Capacity  HOA Fee  Irregular Shape  Quadrant  \\\n",
              "0      176000    5                2        0              0.0       1.0   \n",
              "1      225000    6                2        0              0.0       1.0   \n",
              "2      274900   14                2        0              0.0       1.0   \n",
              "3      175000   16                1        0              0.0       1.0   \n",
              "4      179000   29                0        0              0.0       1.0   \n",
              "\n",
              "   School District  Sold Terms  Total Bedrooms  Total Bathrooms  \\\n",
              "0              0.0         2.0               3                1   \n",
              "1              0.0         1.0               4                2   \n",
              "2              0.0         1.0               3                1   \n",
              "3              0.0         4.0               4                1   \n",
              "4              0.0         0.0               4                2   \n",
              "\n",
              "   Total Square Feet  Year Built   Zip  year_sold  month_sold  \\\n",
              "0               1031        1974  12.0       2018           9   \n",
              "1               2091        1995  12.0       2018           7   \n",
              "2               2016        1980  12.0       2018          11   \n",
              "3               1920        1978  12.0       2018           6   \n",
              "4               1329        1976  12.0       2018           9   \n",
              "\n",
              "   built_after_2000  \n",
              "0                 0  \n",
              "1                 0  \n",
              "2                 0  \n",
              "3                 0  \n",
              "4                 0  "
            ],
            "text/html": [
              "\n",
              "  <div id=\"df-cd211df4-c921-4219-87b6-203b5f4650db\">\n",
              "    <div class=\"colab-df-container\">\n",
              "      <div>\n",
              "<style scoped>\n",
              "    .dataframe tbody tr th:only-of-type {\n",
              "        vertical-align: middle;\n",
              "    }\n",
              "\n",
              "    .dataframe tbody tr th {\n",
              "        vertical-align: top;\n",
              "    }\n",
              "\n",
              "    .dataframe thead th {\n",
              "        text-align: right;\n",
              "    }\n",
              "</style>\n",
              "<table border=\"1\" class=\"dataframe\">\n",
              "  <thead>\n",
              "    <tr style=\"text-align: right;\">\n",
              "      <th></th>\n",
              "      <th>Sold Price</th>\n",
              "      <th>DOM</th>\n",
              "      <th>Garage Capacity</th>\n",
              "      <th>HOA Fee</th>\n",
              "      <th>Irregular Shape</th>\n",
              "      <th>Quadrant</th>\n",
              "      <th>School District</th>\n",
              "      <th>Sold Terms</th>\n",
              "      <th>Total Bedrooms</th>\n",
              "      <th>Total Bathrooms</th>\n",
              "      <th>Total Square Feet</th>\n",
              "      <th>Year Built</th>\n",
              "      <th>Zip</th>\n",
              "      <th>year_sold</th>\n",
              "      <th>month_sold</th>\n",
              "      <th>built_after_2000</th>\n",
              "    </tr>\n",
              "  </thead>\n",
              "  <tbody>\n",
              "    <tr>\n",
              "      <th>0</th>\n",
              "      <td>176000</td>\n",
              "      <td>5</td>\n",
              "      <td>2</td>\n",
              "      <td>0</td>\n",
              "      <td>0.0</td>\n",
              "      <td>1.0</td>\n",
              "      <td>0.0</td>\n",
              "      <td>2.0</td>\n",
              "      <td>3</td>\n",
              "      <td>1</td>\n",
              "      <td>1031</td>\n",
              "      <td>1974</td>\n",
              "      <td>12.0</td>\n",
              "      <td>2018</td>\n",
              "      <td>9</td>\n",
              "      <td>0</td>\n",
              "    </tr>\n",
              "    <tr>\n",
              "      <th>1</th>\n",
              "      <td>225000</td>\n",
              "      <td>6</td>\n",
              "      <td>2</td>\n",
              "      <td>0</td>\n",
              "      <td>0.0</td>\n",
              "      <td>1.0</td>\n",
              "      <td>0.0</td>\n",
              "      <td>1.0</td>\n",
              "      <td>4</td>\n",
              "      <td>2</td>\n",
              "      <td>2091</td>\n",
              "      <td>1995</td>\n",
              "      <td>12.0</td>\n",
              "      <td>2018</td>\n",
              "      <td>7</td>\n",
              "      <td>0</td>\n",
              "    </tr>\n",
              "    <tr>\n",
              "      <th>2</th>\n",
              "      <td>274900</td>\n",
              "      <td>14</td>\n",
              "      <td>2</td>\n",
              "      <td>0</td>\n",
              "      <td>0.0</td>\n",
              "      <td>1.0</td>\n",
              "      <td>0.0</td>\n",
              "      <td>1.0</td>\n",
              "      <td>3</td>\n",
              "      <td>1</td>\n",
              "      <td>2016</td>\n",
              "      <td>1980</td>\n",
              "      <td>12.0</td>\n",
              "      <td>2018</td>\n",
              "      <td>11</td>\n",
              "      <td>0</td>\n",
              "    </tr>\n",
              "    <tr>\n",
              "      <th>3</th>\n",
              "      <td>175000</td>\n",
              "      <td>16</td>\n",
              "      <td>1</td>\n",
              "      <td>0</td>\n",
              "      <td>0.0</td>\n",
              "      <td>1.0</td>\n",
              "      <td>0.0</td>\n",
              "      <td>4.0</td>\n",
              "      <td>4</td>\n",
              "      <td>1</td>\n",
              "      <td>1920</td>\n",
              "      <td>1978</td>\n",
              "      <td>12.0</td>\n",
              "      <td>2018</td>\n",
              "      <td>6</td>\n",
              "      <td>0</td>\n",
              "    </tr>\n",
              "    <tr>\n",
              "      <th>4</th>\n",
              "      <td>179000</td>\n",
              "      <td>29</td>\n",
              "      <td>0</td>\n",
              "      <td>0</td>\n",
              "      <td>0.0</td>\n",
              "      <td>1.0</td>\n",
              "      <td>0.0</td>\n",
              "      <td>0.0</td>\n",
              "      <td>4</td>\n",
              "      <td>2</td>\n",
              "      <td>1329</td>\n",
              "      <td>1976</td>\n",
              "      <td>12.0</td>\n",
              "      <td>2018</td>\n",
              "      <td>9</td>\n",
              "      <td>0</td>\n",
              "    </tr>\n",
              "  </tbody>\n",
              "</table>\n",
              "</div>\n",
              "      <button class=\"colab-df-convert\" onclick=\"convertToInteractive('df-cd211df4-c921-4219-87b6-203b5f4650db')\"\n",
              "              title=\"Convert this dataframe to an interactive table.\"\n",
              "              style=\"display:none;\">\n",
              "        \n",
              "  <svg xmlns=\"http://www.w3.org/2000/svg\" height=\"24px\"viewBox=\"0 0 24 24\"\n",
              "       width=\"24px\">\n",
              "    <path d=\"M0 0h24v24H0V0z\" fill=\"none\"/>\n",
              "    <path d=\"M18.56 5.44l.94 2.06.94-2.06 2.06-.94-2.06-.94-.94-2.06-.94 2.06-2.06.94zm-11 1L8.5 8.5l.94-2.06 2.06-.94-2.06-.94L8.5 2.5l-.94 2.06-2.06.94zm10 10l.94 2.06.94-2.06 2.06-.94-2.06-.94-.94-2.06-.94 2.06-2.06.94z\"/><path d=\"M17.41 7.96l-1.37-1.37c-.4-.4-.92-.59-1.43-.59-.52 0-1.04.2-1.43.59L10.3 9.45l-7.72 7.72c-.78.78-.78 2.05 0 2.83L4 21.41c.39.39.9.59 1.41.59.51 0 1.02-.2 1.41-.59l7.78-7.78 2.81-2.81c.8-.78.8-2.07 0-2.86zM5.41 20L4 18.59l7.72-7.72 1.47 1.35L5.41 20z\"/>\n",
              "  </svg>\n",
              "      </button>\n",
              "      \n",
              "  <style>\n",
              "    .colab-df-container {\n",
              "      display:flex;\n",
              "      flex-wrap:wrap;\n",
              "      gap: 12px;\n",
              "    }\n",
              "\n",
              "    .colab-df-convert {\n",
              "      background-color: #E8F0FE;\n",
              "      border: none;\n",
              "      border-radius: 50%;\n",
              "      cursor: pointer;\n",
              "      display: none;\n",
              "      fill: #1967D2;\n",
              "      height: 32px;\n",
              "      padding: 0 0 0 0;\n",
              "      width: 32px;\n",
              "    }\n",
              "\n",
              "    .colab-df-convert:hover {\n",
              "      background-color: #E2EBFA;\n",
              "      box-shadow: 0px 1px 2px rgba(60, 64, 67, 0.3), 0px 1px 3px 1px rgba(60, 64, 67, 0.15);\n",
              "      fill: #174EA6;\n",
              "    }\n",
              "\n",
              "    [theme=dark] .colab-df-convert {\n",
              "      background-color: #3B4455;\n",
              "      fill: #D2E3FC;\n",
              "    }\n",
              "\n",
              "    [theme=dark] .colab-df-convert:hover {\n",
              "      background-color: #434B5C;\n",
              "      box-shadow: 0px 1px 3px 1px rgba(0, 0, 0, 0.15);\n",
              "      filter: drop-shadow(0px 1px 2px rgba(0, 0, 0, 0.3));\n",
              "      fill: #FFFFFF;\n",
              "    }\n",
              "  </style>\n",
              "\n",
              "      <script>\n",
              "        const buttonEl =\n",
              "          document.querySelector('#df-cd211df4-c921-4219-87b6-203b5f4650db button.colab-df-convert');\n",
              "        buttonEl.style.display =\n",
              "          google.colab.kernel.accessAllowed ? 'block' : 'none';\n",
              "\n",
              "        async function convertToInteractive(key) {\n",
              "          const element = document.querySelector('#df-cd211df4-c921-4219-87b6-203b5f4650db');\n",
              "          const dataTable =\n",
              "            await google.colab.kernel.invokeFunction('convertToInteractive',\n",
              "                                                     [key], {});\n",
              "          if (!dataTable) return;\n",
              "\n",
              "          const docLinkHtml = 'Like what you see? Visit the ' +\n",
              "            '<a target=\"_blank\" href=https://colab.research.google.com/notebooks/data_table.ipynb>data table notebook</a>'\n",
              "            + ' to learn more about interactive tables.';\n",
              "          element.innerHTML = '';\n",
              "          dataTable['output_type'] = 'display_data';\n",
              "          await google.colab.output.renderOutput(dataTable, element);\n",
              "          const docLink = document.createElement('div');\n",
              "          docLink.innerHTML = docLinkHtml;\n",
              "          element.appendChild(docLink);\n",
              "        }\n",
              "      </script>\n",
              "    </div>\n",
              "  </div>\n",
              "  "
            ]
          },
          "metadata": {},
          "execution_count": 14
        }
      ]
    },
    {
      "cell_type": "code",
      "source": [
        "enc.categories_"
      ],
      "metadata": {
        "colab": {
          "base_uri": "https://localhost:8080/"
        },
        "id": "ZVwPvHwebY16",
        "outputId": "904def36-41f1-4b88-81e5-90f9936fa445"
      },
      "execution_count": null,
      "outputs": [
        {
          "output_type": "execute_result",
          "data": {
            "text/plain": [
              "[array(['No', 'Yes'], dtype=object),\n",
              " array(['NE', 'NW', 'SE', 'SW'], dtype=object),\n",
              " array(['Cache', 'Logan'], dtype=object),\n",
              " array(['Cash', 'Conventional', 'FHA', 'Other', 'USDA Rural Development',\n",
              "        'VA'], dtype=object),\n",
              " array([84305, 84308, 84318, 84319, 84320, 84321, 84325, 84326, 84327,\n",
              "        84328, 84332, 84333, 84335, 84338, 84339, 84341])]"
            ]
          },
          "metadata": {},
          "execution_count": 15
        }
      ]
    },
    {
      "cell_type": "code",
      "source": [
        "df.shape"
      ],
      "metadata": {
        "colab": {
          "base_uri": "https://localhost:8080/"
        },
        "id": "JSe8ry2TbbO7",
        "outputId": "de23a4f0-e77d-424c-926e-0769720b009e"
      },
      "execution_count": null,
      "outputs": [
        {
          "output_type": "execute_result",
          "data": {
            "text/plain": [
              "(4108, 16)"
            ]
          },
          "metadata": {},
          "execution_count": 16
        }
      ]
    },
    {
      "cell_type": "code",
      "source": [
        "rand_state = 1000"
      ],
      "metadata": {
        "id": "seiEAITPbmmc"
      },
      "execution_count": null,
      "outputs": []
    },
    {
      "cell_type": "code",
      "source": [
        "y = df['Sold Price']\n",
        "X = df.drop('Sold Price', axis=1)"
      ],
      "metadata": {
        "id": "-4mFVnQebrl7"
      },
      "execution_count": null,
      "outputs": []
    },
    {
      "cell_type": "code",
      "source": [
        "from sklearn.model_selection import train_test_split\n",
        "X_train, X_test, y_train, y_test = train_test_split(X, y, test_size=0.3, random_state=rand_state)"
      ],
      "metadata": {
        "id": "iAMrZzHUbv7O"
      },
      "execution_count": null,
      "outputs": []
    },
    {
      "cell_type": "code",
      "source": [
        "from sklearn.ensemble import RandomForestRegressor"
      ],
      "metadata": {
        "id": "4npERiOUbx_g"
      },
      "execution_count": null,
      "outputs": []
    },
    {
      "cell_type": "code",
      "source": [
        "# Fitting RF regression to the Training set\n",
        "RF_regression = RandomForestRegressor(random_state=rand_state)\n",
        "RF_regression.fit(X_train, y_train)"
      ],
      "metadata": {
        "colab": {
          "base_uri": "https://localhost:8080/"
        },
        "id": "eG_WaKUfbz3o",
        "outputId": "f1b57c0e-9614-4064-a5f6-3eafa4c72c15"
      },
      "execution_count": null,
      "outputs": [
        {
          "output_type": "execute_result",
          "data": {
            "text/plain": [
              "RandomForestRegressor(random_state=1000)"
            ]
          },
          "metadata": {},
          "execution_count": 21
        }
      ]
    },
    {
      "cell_type": "code",
      "source": [
        "# Predicting the Test set results\n",
        "y_hat = RF_regression.predict(X_test)"
      ],
      "metadata": {
        "id": "gTZzWg5db1ey"
      },
      "execution_count": null,
      "outputs": []
    },
    {
      "cell_type": "code",
      "source": [
        "predictions = pd.DataFrame({ 'y_test':y_test,'y_hat':y_hat})\n",
        "predictions.head()"
      ],
      "metadata": {
        "colab": {
          "base_uri": "https://localhost:8080/",
          "height": 206
        },
        "id": "cZZiWY_-b4xU",
        "outputId": "48c33021-473f-43fa-aa97-43937fd2e138"
      },
      "execution_count": null,
      "outputs": [
        {
          "output_type": "execute_result",
          "data": {
            "text/plain": [
              "      y_test      y_hat\n",
              "4086  234500  260053.50\n",
              "2938  200685  209089.60\n",
              "175   345500  383279.00\n",
              "1940  230000  229329.94\n",
              "1763  299000  379321.73"
            ],
            "text/html": [
              "\n",
              "  <div id=\"df-6d74b56f-ba95-44f4-a726-7f3fee3e5530\">\n",
              "    <div class=\"colab-df-container\">\n",
              "      <div>\n",
              "<style scoped>\n",
              "    .dataframe tbody tr th:only-of-type {\n",
              "        vertical-align: middle;\n",
              "    }\n",
              "\n",
              "    .dataframe tbody tr th {\n",
              "        vertical-align: top;\n",
              "    }\n",
              "\n",
              "    .dataframe thead th {\n",
              "        text-align: right;\n",
              "    }\n",
              "</style>\n",
              "<table border=\"1\" class=\"dataframe\">\n",
              "  <thead>\n",
              "    <tr style=\"text-align: right;\">\n",
              "      <th></th>\n",
              "      <th>y_test</th>\n",
              "      <th>y_hat</th>\n",
              "    </tr>\n",
              "  </thead>\n",
              "  <tbody>\n",
              "    <tr>\n",
              "      <th>4086</th>\n",
              "      <td>234500</td>\n",
              "      <td>260053.50</td>\n",
              "    </tr>\n",
              "    <tr>\n",
              "      <th>2938</th>\n",
              "      <td>200685</td>\n",
              "      <td>209089.60</td>\n",
              "    </tr>\n",
              "    <tr>\n",
              "      <th>175</th>\n",
              "      <td>345500</td>\n",
              "      <td>383279.00</td>\n",
              "    </tr>\n",
              "    <tr>\n",
              "      <th>1940</th>\n",
              "      <td>230000</td>\n",
              "      <td>229329.94</td>\n",
              "    </tr>\n",
              "    <tr>\n",
              "      <th>1763</th>\n",
              "      <td>299000</td>\n",
              "      <td>379321.73</td>\n",
              "    </tr>\n",
              "  </tbody>\n",
              "</table>\n",
              "</div>\n",
              "      <button class=\"colab-df-convert\" onclick=\"convertToInteractive('df-6d74b56f-ba95-44f4-a726-7f3fee3e5530')\"\n",
              "              title=\"Convert this dataframe to an interactive table.\"\n",
              "              style=\"display:none;\">\n",
              "        \n",
              "  <svg xmlns=\"http://www.w3.org/2000/svg\" height=\"24px\"viewBox=\"0 0 24 24\"\n",
              "       width=\"24px\">\n",
              "    <path d=\"M0 0h24v24H0V0z\" fill=\"none\"/>\n",
              "    <path d=\"M18.56 5.44l.94 2.06.94-2.06 2.06-.94-2.06-.94-.94-2.06-.94 2.06-2.06.94zm-11 1L8.5 8.5l.94-2.06 2.06-.94-2.06-.94L8.5 2.5l-.94 2.06-2.06.94zm10 10l.94 2.06.94-2.06 2.06-.94-2.06-.94-.94-2.06-.94 2.06-2.06.94z\"/><path d=\"M17.41 7.96l-1.37-1.37c-.4-.4-.92-.59-1.43-.59-.52 0-1.04.2-1.43.59L10.3 9.45l-7.72 7.72c-.78.78-.78 2.05 0 2.83L4 21.41c.39.39.9.59 1.41.59.51 0 1.02-.2 1.41-.59l7.78-7.78 2.81-2.81c.8-.78.8-2.07 0-2.86zM5.41 20L4 18.59l7.72-7.72 1.47 1.35L5.41 20z\"/>\n",
              "  </svg>\n",
              "      </button>\n",
              "      \n",
              "  <style>\n",
              "    .colab-df-container {\n",
              "      display:flex;\n",
              "      flex-wrap:wrap;\n",
              "      gap: 12px;\n",
              "    }\n",
              "\n",
              "    .colab-df-convert {\n",
              "      background-color: #E8F0FE;\n",
              "      border: none;\n",
              "      border-radius: 50%;\n",
              "      cursor: pointer;\n",
              "      display: none;\n",
              "      fill: #1967D2;\n",
              "      height: 32px;\n",
              "      padding: 0 0 0 0;\n",
              "      width: 32px;\n",
              "    }\n",
              "\n",
              "    .colab-df-convert:hover {\n",
              "      background-color: #E2EBFA;\n",
              "      box-shadow: 0px 1px 2px rgba(60, 64, 67, 0.3), 0px 1px 3px 1px rgba(60, 64, 67, 0.15);\n",
              "      fill: #174EA6;\n",
              "    }\n",
              "\n",
              "    [theme=dark] .colab-df-convert {\n",
              "      background-color: #3B4455;\n",
              "      fill: #D2E3FC;\n",
              "    }\n",
              "\n",
              "    [theme=dark] .colab-df-convert:hover {\n",
              "      background-color: #434B5C;\n",
              "      box-shadow: 0px 1px 3px 1px rgba(0, 0, 0, 0.15);\n",
              "      filter: drop-shadow(0px 1px 2px rgba(0, 0, 0, 0.3));\n",
              "      fill: #FFFFFF;\n",
              "    }\n",
              "  </style>\n",
              "\n",
              "      <script>\n",
              "        const buttonEl =\n",
              "          document.querySelector('#df-6d74b56f-ba95-44f4-a726-7f3fee3e5530 button.colab-df-convert');\n",
              "        buttonEl.style.display =\n",
              "          google.colab.kernel.accessAllowed ? 'block' : 'none';\n",
              "\n",
              "        async function convertToInteractive(key) {\n",
              "          const element = document.querySelector('#df-6d74b56f-ba95-44f4-a726-7f3fee3e5530');\n",
              "          const dataTable =\n",
              "            await google.colab.kernel.invokeFunction('convertToInteractive',\n",
              "                                                     [key], {});\n",
              "          if (!dataTable) return;\n",
              "\n",
              "          const docLinkHtml = 'Like what you see? Visit the ' +\n",
              "            '<a target=\"_blank\" href=https://colab.research.google.com/notebooks/data_table.ipynb>data table notebook</a>'\n",
              "            + ' to learn more about interactive tables.';\n",
              "          element.innerHTML = '';\n",
              "          dataTable['output_type'] = 'display_data';\n",
              "          await google.colab.output.renderOutput(dataTable, element);\n",
              "          const docLink = document.createElement('div');\n",
              "          docLink.innerHTML = docLinkHtml;\n",
              "          element.appendChild(docLink);\n",
              "        }\n",
              "      </script>\n",
              "    </div>\n",
              "  </div>\n",
              "  "
            ]
          },
          "metadata": {},
          "execution_count": 23
        }
      ]
    },
    {
      "cell_type": "code",
      "source": [
        "sns.scatterplot(x=y_test, y=y_hat, alpha=0.6)\n",
        "sns.lineplot(y_test, y_test)\n",
        "\n",
        "plt.xlabel('Actual price', fontsize=14)\n",
        "plt.ylabel('Prediced  price', fontsize=14)\n",
        "plt.title('Actual vs Predicted  price (test set)', fontsize=17)\n",
        "plt.show()"
      ],
      "metadata": {
        "colab": {
          "base_uri": "https://localhost:8080/",
          "height": 361
        },
        "id": "eWguTSwlb6Sn",
        "outputId": "c138f16b-347d-4ca6-eb72-66b700987bd6"
      },
      "execution_count": null,
      "outputs": [
        {
          "output_type": "stream",
          "name": "stderr",
          "text": [
            "/usr/local/lib/python3.8/dist-packages/seaborn/_decorators.py:36: FutureWarning: Pass the following variables as keyword args: x, y. From version 0.12, the only valid positional argument will be `data`, and passing other arguments without an explicit keyword will result in an error or misinterpretation.\n",
            "  warnings.warn(\n"
          ]
        },
        {
          "output_type": "display_data",
          "data": {
            "text/plain": [
              "<Figure size 432x288 with 1 Axes>"
            ],
            "image/png": "[encoded data removed]"
          },
          "metadata": {}
        }
      ]
    },
    {
      "cell_type": "code",
      "source": [
        "np.round(RF_regression.score(X_test, y_test),4)"
      ],
      "metadata": {
        "colab": {
          "base_uri": "https://localhost:8080/"
        },
        "id": "mPnUyh8Sb9F8",
        "outputId": "ce0cfbbc-f784-490f-8731-cd0d1bd0644c"
      },
      "execution_count": null,
      "outputs": [
        {
          "output_type": "execute_result",
          "data": {
            "text/plain": [
              "0.8364"
            ]
          },
          "metadata": {},
          "execution_count": 25
        }
      ]
    },
    {
      "cell_type": "code",
      "source": [
        "MSE_test = round(np.mean(np.square(y_test - y_hat)),2)\n",
        "RMSE_test = round(np.sqrt(MSE_test),2)\n",
        "RMSE_test"
      ],
      "metadata": {
        "colab": {
          "base_uri": "https://localhost:8080/"
        },
        "id": "UBrWRgSXcBoC",
        "outputId": "ccc1fee5-3813-49af-fa70-587b72a7ae3f"
      },
      "execution_count": null,
      "outputs": [
        {
          "output_type": "execute_result",
          "data": {
            "text/plain": [
              "46624.02"
            ]
          },
          "metadata": {},
          "execution_count": 26
        }
      ]
    },
    {
      "cell_type": "code",
      "source": [
        "# Tuning Hyper Parameters \n",
        "my_param_grid = {'n_estimators': [10,100,500], 'max_features':['sqrt','log2'], 'max_depth':[5,10,20]}"
      ],
      "metadata": {
        "id": "Otr2fMOIcFWD"
      },
      "execution_count": null,
      "outputs": []
    },
    {
      "cell_type": "code",
      "source": [
        "from sklearn.model_selection import GridSearchCV"
      ],
      "metadata": {
        "id": "o-N1UJgjc0SU"
      },
      "execution_count": null,
      "outputs": []
    },
    {
      "cell_type": "code",
      "source": [
        "grid = GridSearchCV(estimator=RandomForestRegressor(random_state=rand_state),param_grid= my_param_grid, refit = True, verbose=2, cv=5 )\n"
      ],
      "metadata": {
        "id": "Yl53NtNrc1_h"
      },
      "execution_count": null,
      "outputs": []
    },
    {
      "cell_type": "code",
      "source": [
        "grid.fit(X_train,y_train)"
      ],
      "metadata": {
        "colab": {
          "base_uri": "https://localhost:8080/"
        },
        "id": "xV2CEfnzc9Vc",
        "outputId": "81049413-5075-4b5f-9aab-48cb3c3f875b"
      },
      "execution_count": null,
      "outputs": [
        {
          "output_type": "stream",
          "name": "stdout",
          "text": [
            "Fitting 5 folds for each of 18 candidates, totalling 90 fits\n",
            "[CV] END ....max_depth=5, max_features=sqrt, n_estimators=10; total time=   0.0s\n",
            "[CV] END ....max_depth=5, max_features=sqrt, n_estimators=10; total time=   0.0s\n",
            "[CV] END ....max_depth=5, max_features=sqrt, n_estimators=10; total time=   0.0s\n",
            "[CV] END ....max_depth=5, max_features=sqrt, n_estimators=10; total time=   0.0s\n",
            "[CV] END ....max_depth=5, max_features=sqrt, n_estimators=10; total time=   0.0s\n",
            "[CV] END ...max_depth=5, max_features=sqrt, n_estimators=100; total time=   0.2s\n",
            "[CV] END ...max_depth=5, max_features=sqrt, n_estimators=100; total time=   0.2s\n",
            "[CV] END ...max_depth=5, max_features=sqrt, n_estimators=100; total time=   0.2s\n",
            "[CV] END ...max_depth=5, max_features=sqrt, n_estimators=100; total time=   0.2s\n",
            "[CV] END ...max_depth=5, max_features=sqrt, n_estimators=100; total time=   0.2s\n",
            "[CV] END ...max_depth=5, max_features=sqrt, n_estimators=500; total time=   1.0s\n",
            "[CV] END ...max_depth=5, max_features=sqrt, n_estimators=500; total time=   1.1s\n",
            "[CV] END ...max_depth=5, max_features=sqrt, n_estimators=500; total time=   1.0s\n",
            "[CV] END ...max_depth=5, max_features=sqrt, n_estimators=500; total time=   1.1s\n",
            "[CV] END ...max_depth=5, max_features=sqrt, n_estimators=500; total time=   1.7s\n",
            "[CV] END ....max_depth=5, max_features=log2, n_estimators=10; total time=   0.1s\n",
            "[CV] END ....max_depth=5, max_features=log2, n_estimators=10; total time=   0.1s\n",
            "[CV] END ....max_depth=5, max_features=log2, n_estimators=10; total time=   0.0s\n",
            "[CV] END ....max_depth=5, max_features=log2, n_estimators=10; total time=   0.1s\n",
            "[CV] END ....max_depth=5, max_features=log2, n_estimators=10; total time=   0.0s\n",
            "[CV] END ...max_depth=5, max_features=log2, n_estimators=100; total time=   0.4s\n",
            "[CV] END ...max_depth=5, max_features=log2, n_estimators=100; total time=   0.5s\n",
            "[CV] END ...max_depth=5, max_features=log2, n_estimators=100; total time=   0.4s\n",
            "[CV] END ...max_depth=5, max_features=log2, n_estimators=100; total time=   0.5s\n",
            "[CV] END ...max_depth=5, max_features=log2, n_estimators=100; total time=   0.5s\n",
            "[CV] END ...max_depth=5, max_features=log2, n_estimators=500; total time=   2.5s\n",
            "[CV] END ...max_depth=5, max_features=log2, n_estimators=500; total time=   2.5s\n",
            "[CV] END ...max_depth=5, max_features=log2, n_estimators=500; total time=   2.2s\n",
            "[CV] END ...max_depth=5, max_features=log2, n_estimators=500; total time=   2.2s\n",
            "[CV] END ...max_depth=5, max_features=log2, n_estimators=500; total time=   2.5s\n",
            "[CV] END ...max_depth=10, max_features=sqrt, n_estimators=10; total time=   0.1s\n",
            "[CV] END ...max_depth=10, max_features=sqrt, n_estimators=10; total time=   0.1s\n",
            "[CV] END ...max_depth=10, max_features=sqrt, n_estimators=10; total time=   0.1s\n",
            "[CV] END ...max_depth=10, max_features=sqrt, n_estimators=10; total time=   0.1s\n",
            "[CV] END ...max_depth=10, max_features=sqrt, n_estimators=10; total time=   0.1s\n",
            "[CV] END ..max_depth=10, max_features=sqrt, n_estimators=100; total time=   0.7s\n",
            "[CV] END ..max_depth=10, max_features=sqrt, n_estimators=100; total time=   0.6s\n",
            "[CV] END ..max_depth=10, max_features=sqrt, n_estimators=100; total time=   0.9s\n",
            "[CV] END ..max_depth=10, max_features=sqrt, n_estimators=100; total time=   0.7s\n",
            "[CV] END ..max_depth=10, max_features=sqrt, n_estimators=100; total time=   0.6s\n",
            "[CV] END ..max_depth=10, max_features=sqrt, n_estimators=500; total time=   3.2s\n",
            "[CV] END ..max_depth=10, max_features=sqrt, n_estimators=500; total time=   2.3s\n",
            "[CV] END ..max_depth=10, max_features=sqrt, n_estimators=500; total time=   1.5s\n",
            "[CV] END ..max_depth=10, max_features=sqrt, n_estimators=500; total time=   1.5s\n",
            "[CV] END ..max_depth=10, max_features=sqrt, n_estimators=500; total time=   1.5s\n",
            "[CV] END ...max_depth=10, max_features=log2, n_estimators=10; total time=   0.0s\n",
            "[CV] END ...max_depth=10, max_features=log2, n_estimators=10; total time=   0.0s\n",
            "[CV] END ...max_depth=10, max_features=log2, n_estimators=10; total time=   0.0s\n",
            "[CV] END ...max_depth=10, max_features=log2, n_estimators=10; total time=   0.0s\n",
            "[CV] END ...max_depth=10, max_features=log2, n_estimators=10; total time=   0.0s\n",
            "[CV] END ..max_depth=10, max_features=log2, n_estimators=100; total time=   0.3s\n",
            "[CV] END ..max_depth=10, max_features=log2, n_estimators=100; total time=   0.3s\n",
            "[CV] END ..max_depth=10, max_features=log2, n_estimators=100; total time=   0.3s\n",
            "[CV] END ..max_depth=10, max_features=log2, n_estimators=100; total time=   0.3s\n",
            "[CV] END ..max_depth=10, max_features=log2, n_estimators=100; total time=   0.3s\n",
            "[CV] END ..max_depth=10, max_features=log2, n_estimators=500; total time=   1.5s\n",
            "[CV] END ..max_depth=10, max_features=log2, n_estimators=500; total time=   1.5s\n",
            "[CV] END ..max_depth=10, max_features=log2, n_estimators=500; total time=   1.5s\n",
            "[CV] END ..max_depth=10, max_features=log2, n_estimators=500; total time=   1.6s\n",
            "[CV] END ..max_depth=10, max_features=log2, n_estimators=500; total time=   1.5s\n",
            "[CV] END ...max_depth=20, max_features=sqrt, n_estimators=10; total time=   0.1s\n",
            "[CV] END ...max_depth=20, max_features=sqrt, n_estimators=10; total time=   0.1s\n",
            "[CV] END ...max_depth=20, max_features=sqrt, n_estimators=10; total time=   0.0s\n",
            "[CV] END ...max_depth=20, max_features=sqrt, n_estimators=10; total time=   0.1s\n",
            "[CV] END ...max_depth=20, max_features=sqrt, n_estimators=10; total time=   0.0s\n",
            "[CV] END ..max_depth=20, max_features=sqrt, n_estimators=100; total time=   0.4s\n",
            "[CV] END ..max_depth=20, max_features=sqrt, n_estimators=100; total time=   0.4s\n",
            "[CV] END ..max_depth=20, max_features=sqrt, n_estimators=100; total time=   0.4s\n",
            "[CV] END ..max_depth=20, max_features=sqrt, n_estimators=100; total time=   0.4s\n",
            "[CV] END ..max_depth=20, max_features=sqrt, n_estimators=100; total time=   0.4s\n",
            "[CV] END ..max_depth=20, max_features=sqrt, n_estimators=500; total time=   2.2s\n",
            "[CV] END ..max_depth=20, max_features=sqrt, n_estimators=500; total time=   2.2s\n",
            "[CV] END ..max_depth=20, max_features=sqrt, n_estimators=500; total time=   2.1s\n",
            "[CV] END ..max_depth=20, max_features=sqrt, n_estimators=500; total time=   2.2s\n",
            "[CV] END ..max_depth=20, max_features=sqrt, n_estimators=500; total time=   2.2s\n",
            "[CV] END ...max_depth=20, max_features=log2, n_estimators=10; total time=   0.1s\n",
            "[CV] END ...max_depth=20, max_features=log2, n_estimators=10; total time=   0.0s\n",
            "[CV] END ...max_depth=20, max_features=log2, n_estimators=10; total time=   0.0s\n",
            "[CV] END ...max_depth=20, max_features=log2, n_estimators=10; total time=   0.1s\n",
            "[CV] END ...max_depth=20, max_features=log2, n_estimators=10; total time=   0.0s\n",
            "[CV] END ..max_depth=20, max_features=log2, n_estimators=100; total time=   0.4s\n",
            "[CV] END ..max_depth=20, max_features=log2, n_estimators=100; total time=   0.4s\n",
            "[CV] END ..max_depth=20, max_features=log2, n_estimators=100; total time=   0.4s\n",
            "[CV] END ..max_depth=20, max_features=log2, n_estimators=100; total time=   0.4s\n",
            "[CV] END ..max_depth=20, max_features=log2, n_estimators=100; total time=   0.5s\n",
            "[CV] END ..max_depth=20, max_features=log2, n_estimators=500; total time=   2.2s\n",
            "[CV] END ..max_depth=20, max_features=log2, n_estimators=500; total time=   2.2s\n",
            "[CV] END ..max_depth=20, max_features=log2, n_estimators=500; total time=   2.1s\n",
            "[CV] END ..max_depth=20, max_features=log2, n_estimators=500; total time=   2.1s\n",
            "[CV] END ..max_depth=20, max_features=log2, n_estimators=500; total time=   2.1s\n"
          ]
        },
        {
          "output_type": "execute_result",
          "data": {
            "text/plain": [
              "GridSearchCV(cv=5, estimator=RandomForestRegressor(random_state=1000),\n",
              "             param_grid={'max_depth': [5, 10, 20],\n",
              "                         'max_features': ['sqrt', 'log2'],\n",
              "                         'n_estimators': [10, 100, 500]},\n",
              "             verbose=2)"
            ]
          },
          "metadata": {},
          "execution_count": 30
        }
      ]
    },
    {
      "cell_type": "code",
      "source": [
        "grid.best_params_"
      ],
      "metadata": {
        "colab": {
          "base_uri": "https://localhost:8080/"
        },
        "id": "4CGeJzuhdAHB",
        "outputId": "560139bf-7907-4f46-ae71-81905d36efd0"
      },
      "execution_count": null,
      "outputs": [
        {
          "output_type": "execute_result",
          "data": {
            "text/plain": [
              "{'max_depth': 20, 'max_features': 'sqrt', 'n_estimators': 500}"
            ]
          },
          "metadata": {},
          "execution_count": 31
        }
      ]
    },
    {
      "cell_type": "code",
      "source": [
        "grid.best_estimator_"
      ],
      "metadata": {
        "colab": {
          "base_uri": "https://localhost:8080/"
        },
        "id": "DW5gDySadU0C",
        "outputId": "a37cb645-89c7-472f-dc1b-0985b893b414"
      },
      "execution_count": null,
      "outputs": [
        {
          "output_type": "execute_result",
          "data": {
            "text/plain": [
              "RandomForestRegressor(max_depth=20, max_features='sqrt', n_estimators=500,\n",
              "                      random_state=1000)"
            ]
          },
          "metadata": {},
          "execution_count": 32
        }
      ]
    },
    {
      "cell_type": "code",
      "source": [
        "y_hat_optimized = grid.predict(X_test)"
      ],
      "metadata": {
        "id": "UulygQmTdWa5"
      },
      "execution_count": null,
      "outputs": []
    },
    {
      "cell_type": "code",
      "source": [
        "predictions['y_hat_optimized'] = y_hat_optimized\n",
        "predictions.head()"
      ],
      "metadata": {
        "colab": {
          "base_uri": "https://localhost:8080/",
          "height": 206
        },
        "id": "VdwbWXMydYEk",
        "outputId": "51b44003-e926-45de-844f-aa9b95664505"
      },
      "execution_count": null,
      "outputs": [
        {
          "output_type": "execute_result",
          "data": {
            "text/plain": [
              "      y_test      y_hat  y_hat_optimized\n",
              "4086  234500  260053.50    265694.229000\n",
              "2938  200685  209089.60    217248.538649\n",
              "175   345500  383279.00    388735.819370\n",
              "1940  230000  229329.94    219553.236865\n",
              "1763  299000  379321.73    365663.077143"
            ],
            "text/html": [
              "\n",
              "  <div id=\"df-7a49d596-d3c1-4ef9-8349-23f2fcee7e10\">\n",
              "    <div class=\"colab-df-container\">\n",
              "      <div>\n",
              "<style scoped>\n",
              "    .dataframe tbody tr th:only-of-type {\n",
              "        vertical-align: middle;\n",
              "    }\n",
              "\n",
              "    .dataframe tbody tr th {\n",
              "        vertical-align: top;\n",
              "    }\n",
              "\n",
              "    .dataframe thead th {\n",
              "        text-align: right;\n",
              "    }\n",
              "</style>\n",
              "<table border=\"1\" class=\"dataframe\">\n",
              "  <thead>\n",
              "    <tr style=\"text-align: right;\">\n",
              "      <th></th>\n",
              "      <th>y_test</th>\n",
              "      <th>y_hat</th>\n",
              "      <th>y_hat_optimized</th>\n",
              "    </tr>\n",
              "  </thead>\n",
              "  <tbody>\n",
              "    <tr>\n",
              "      <th>4086</th>\n",
              "      <td>234500</td>\n",
              "      <td>260053.50</td>\n",
              "      <td>265694.229000</td>\n",
              "    </tr>\n",
              "    <tr>\n",
              "      <th>2938</th>\n",
              "      <td>200685</td>\n",
              "      <td>209089.60</td>\n",
              "      <td>217248.538649</td>\n",
              "    </tr>\n",
              "    <tr>\n",
              "      <th>175</th>\n",
              "      <td>345500</td>\n",
              "      <td>383279.00</td>\n",
              "      <td>388735.819370</td>\n",
              "    </tr>\n",
              "    <tr>\n",
              "      <th>1940</th>\n",
              "      <td>230000</td>\n",
              "      <td>229329.94</td>\n",
              "      <td>219553.236865</td>\n",
              "    </tr>\n",
              "    <tr>\n",
              "      <th>1763</th>\n",
              "      <td>299000</td>\n",
              "      <td>379321.73</td>\n",
              "      <td>365663.077143</td>\n",
              "    </tr>\n",
              "  </tbody>\n",
              "</table>\n",
              "</div>\n",
              "      <button class=\"colab-df-convert\" onclick=\"convertToInteractive('df-7a49d596-d3c1-4ef9-8349-23f2fcee7e10')\"\n",
              "              title=\"Convert this dataframe to an interactive table.\"\n",
              "              style=\"display:none;\">\n",
              "        \n",
              "  <svg xmlns=\"http://www.w3.org/2000/svg\" height=\"24px\"viewBox=\"0 0 24 24\"\n",
              "       width=\"24px\">\n",
              "    <path d=\"M0 0h24v24H0V0z\" fill=\"none\"/>\n",
              "    <path d=\"M18.56 5.44l.94 2.06.94-2.06 2.06-.94-2.06-.94-.94-2.06-.94 2.06-2.06.94zm-11 1L8.5 8.5l.94-2.06 2.06-.94-2.06-.94L8.5 2.5l-.94 2.06-2.06.94zm10 10l.94 2.06.94-2.06 2.06-.94-2.06-.94-.94-2.06-.94 2.06-2.06.94z\"/><path d=\"M17.41 7.96l-1.37-1.37c-.4-.4-.92-.59-1.43-.59-.52 0-1.04.2-1.43.59L10.3 9.45l-7.72 7.72c-.78.78-.78 2.05 0 2.83L4 21.41c.39.39.9.59 1.41.59.51 0 1.02-.2 1.41-.59l7.78-7.78 2.81-2.81c.8-.78.8-2.07 0-2.86zM5.41 20L4 18.59l7.72-7.72 1.47 1.35L5.41 20z\"/>\n",
              "  </svg>\n",
              "      </button>\n",
              "      \n",
              "  <style>\n",
              "    .colab-df-container {\n",
              "      display:flex;\n",
              "      flex-wrap:wrap;\n",
              "      gap: 12px;\n",
              "    }\n",
              "\n",
              "    .colab-df-convert {\n",
              "      background-color: #E8F0FE;\n",
              "      border: none;\n",
              "      border-radius: 50%;\n",
              "      cursor: pointer;\n",
              "      display: none;\n",
              "      fill: #1967D2;\n",
              "      height: 32px;\n",
              "      padding: 0 0 0 0;\n",
              "      width: 32px;\n",
              "    }\n",
              "\n",
              "    .colab-df-convert:hover {\n",
              "      background-color: #E2EBFA;\n",
              "      box-shadow: 0px 1px 2px rgba(60, 64, 67, 0.3), 0px 1px 3px 1px rgba(60, 64, 67, 0.15);\n",
              "      fill: #174EA6;\n",
              "    }\n",
              "\n",
              "    [theme=dark] .colab-df-convert {\n",
              "      background-color: #3B4455;\n",
              "      fill: #D2E3FC;\n",
              "    }\n",
              "\n",
              "    [theme=dark] .colab-df-convert:hover {\n",
              "      background-color: #434B5C;\n",
              "      box-shadow: 0px 1px 3px 1px rgba(0, 0, 0, 0.15);\n",
              "      filter: drop-shadow(0px 1px 2px rgba(0, 0, 0, 0.3));\n",
              "      fill: #FFFFFF;\n",
              "    }\n",
              "  </style>\n",
              "\n",
              "      <script>\n",
              "        const buttonEl =\n",
              "          document.querySelector('#df-7a49d596-d3c1-4ef9-8349-23f2fcee7e10 button.colab-df-convert');\n",
              "        buttonEl.style.display =\n",
              "          google.colab.kernel.accessAllowed ? 'block' : 'none';\n",
              "\n",
              "        async function convertToInteractive(key) {\n",
              "          const element = document.querySelector('#df-7a49d596-d3c1-4ef9-8349-23f2fcee7e10');\n",
              "          const dataTable =\n",
              "            await google.colab.kernel.invokeFunction('convertToInteractive',\n",
              "                                                     [key], {});\n",
              "          if (!dataTable) return;\n",
              "\n",
              "          const docLinkHtml = 'Like what you see? Visit the ' +\n",
              "            '<a target=\"_blank\" href=https://colab.research.google.com/notebooks/data_table.ipynb>data table notebook</a>'\n",
              "            + ' to learn more about interactive tables.';\n",
              "          element.innerHTML = '';\n",
              "          dataTable['output_type'] = 'display_data';\n",
              "          await google.colab.output.renderOutput(dataTable, element);\n",
              "          const docLink = document.createElement('div');\n",
              "          docLink.innerHTML = docLinkHtml;\n",
              "          element.appendChild(docLink);\n",
              "        }\n",
              "      </script>\n",
              "    </div>\n",
              "  </div>\n",
              "  "
            ]
          },
          "metadata": {},
          "execution_count": 34
        }
      ]
    },
    {
      "cell_type": "code",
      "source": [
        "sns.scatterplot(x=y_test, y=y_hat_optimized, alpha=0.6)\n",
        "sns.lineplot(y_test, y_test)\n",
        "\n",
        "plt.xlabel('Actual price', fontsize=14)\n",
        "plt.ylabel('Prediced  price', fontsize=14)\n",
        "plt.title('Actual vs optimized predicted price (test set)', fontsize=17)\n",
        "plt.show()"
      ],
      "metadata": {
        "colab": {
          "base_uri": "https://localhost:8080/",
          "height": 361
        },
        "id": "yDMtHU-6dZau",
        "outputId": "d9bdaca9-ca4b-4b3d-8219-cedbedcdb479"
      },
      "execution_count": null,
      "outputs": [
        {
          "output_type": "stream",
          "name": "stderr",
          "text": [
            "/usr/local/lib/python3.8/dist-packages/seaborn/_decorators.py:36: FutureWarning: Pass the following variables as keyword args: x, y. From version 0.12, the only valid positional argument will be `data`, and passing other arguments without an explicit keyword will result in an error or misinterpretation.\n",
            "  warnings.warn(\n"
          ]
        },
        {
          "output_type": "display_data",
          "data": {
            "text/plain": [
              "<Figure size 432x288 with 1 Axes>"
            ],
            "image/png": "[encoded data removed]"
          },
          "metadata": {}
        }
      ]
    },
    {
      "cell_type": "code",
      "source": [
        "np.round(grid.score(X_test, y_test),4)"
      ],
      "metadata": {
        "colab": {
          "base_uri": "https://localhost:8080/"
        },
        "id": "gYgBaDtSdbYR",
        "outputId": "679f1995-182e-4408-c829-856be0413aee"
      },
      "execution_count": null,
      "outputs": [
        {
          "output_type": "execute_result",
          "data": {
            "text/plain": [
              "0.85"
            ]
          },
          "metadata": {},
          "execution_count": 36
        }
      ]
    },
    {
      "cell_type": "code",
      "source": [
        "MSE_test_opt = round(np.mean(np.square(y_test - y_hat_optimized)),2)\n",
        "RMSE_test_opt = round(np.sqrt(MSE_test_opt),2)\n",
        "RMSE_test_opt"
      ],
      "metadata": {
        "colab": {
          "base_uri": "https://localhost:8080/"
        },
        "id": "YRzyEtyIddo2",
        "outputId": "55210af6-12f8-4391-ce56-4235410f72cc"
      },
      "execution_count": null,
      "outputs": [
        {
          "output_type": "execute_result",
          "data": {
            "text/plain": [
              "44634.05"
            ]
          },
          "metadata": {},
          "execution_count": 37
        }
      ]
    },
    {
      "cell_type": "code",
      "source": [
        "# Using Cross Validation and OOB observations to estimate the R square in test set \n",
        "# Cross Validation \n",
        "from sklearn.model_selection import cross_val_score"
      ],
      "metadata": {
        "id": "0IZobRckdfK7"
      },
      "execution_count": null,
      "outputs": []
    },
    {
      "cell_type": "code",
      "source": [
        "R2 = cross_val_score(estimator = RandomForestRegressor(max_depth=20, max_features='sqrt', n_estimators=500), X = X_train, y = y_train, cv = 5 , scoring=\"r2\" )"
      ],
      "metadata": {
        "id": "bpO1OiofdvNF"
      },
      "execution_count": null,
      "outputs": []
    },
    {
      "cell_type": "code",
      "source": [
        "R2_CV = round(np.mean(R2),4)\n",
        "R2_CV"
      ],
      "metadata": {
        "colab": {
          "base_uri": "https://localhost:8080/"
        },
        "id": "Smj4ryKVdzvl",
        "outputId": "2bff09cd-5004-4a3e-8710-94cb3f0e78c9"
      },
      "execution_count": null,
      "outputs": [
        {
          "output_type": "execute_result",
          "data": {
            "text/plain": [
              "0.7785"
            ]
          },
          "metadata": {},
          "execution_count": 40
        }
      ]
    },
    {
      "cell_type": "code",
      "source": [
        "# Out of Bag Errors \n"
      ],
      "metadata": {
        "id": "IhBKqNFWd5-l"
      },
      "execution_count": null,
      "outputs": []
    },
    {
      "cell_type": "markdown",
      "metadata": {
        "id": "AesnDZbpXy-8"
      },
      "source": [
        "We can show that on average, each bagged tree makes use of around 2/3 of the observations and 1/3 of them are not used to fit the model. These left out observations are called out-of-bag (OOB) observations. It turns out there is a very straightforward way to estimate the test errors using OOB observations. "
      ]
    },
    {
      "cell_type": "code",
      "source": [
        "np.random.choice(100,size=100)"
      ],
      "metadata": {
        "colab": {
          "base_uri": "https://localhost:8080/"
        },
        "id": "EFM1EpBReCCE",
        "outputId": "e9d0b407-eb51-48ec-8e15-db8133591712"
      },
      "execution_count": null,
      "outputs": [
        {
          "output_type": "execute_result",
          "data": {
            "text/plain": [
              "array([80, 39, 96, 87, 49, 43, 35, 90, 39, 54, 64, 48, 98, 41, 23, 11, 97,\n",
              "       61, 37, 86,  3, 10, 91, 46, 64, 34, 10,  3, 33, 28, 29, 61, 87,  7,\n",
              "       61, 83, 70,  9,  8, 48, 58, 80,  7, 15, 48, 23, 71, 80, 62, 42, 53,\n",
              "       77, 13, 41, 10, 10, 77, 99, 40, 90, 98, 99, 37, 32, 74,  4, 22, 36,\n",
              "       40, 69, 63,  9, 39, 56, 96, 99, 20, 86, 93, 71, 60, 43, 26, 91, 16,\n",
              "       75,  9, 54, 50, 25, 16, 37, 20, 67, 19, 17, 95, 69, 26, 79])"
            ]
          },
          "metadata": {},
          "execution_count": 42
        }
      ]
    },
    {
      "cell_type": "code",
      "source": [
        "np.unique(np.random.choice (100,size=100)).size"
      ],
      "metadata": {
        "colab": {
          "base_uri": "https://localhost:8080/"
        },
        "id": "nY7vl2ageCb7",
        "outputId": "3525b279-252c-431f-a3ba-df24a03e431e"
      },
      "execution_count": null,
      "outputs": [
        {
          "output_type": "execute_result",
          "data": {
            "text/plain": [
              "69"
            ]
          },
          "metadata": {},
          "execution_count": 43
        }
      ]
    },
    {
      "cell_type": "code",
      "source": [
        "RF_oob = RandomForestRegressor(max_depth=20, max_features='sqrt', n_estimators=500, oob_score=True)\n",
        "RF_oob.fit(X_train, y_train)"
      ],
      "metadata": {
        "colab": {
          "base_uri": "https://localhost:8080/"
        },
        "id": "hiAL-AJEeEYC",
        "outputId": "44dcbd48-451a-4d6c-cfdf-ebc293bf5fdb"
      },
      "execution_count": null,
      "outputs": [
        {
          "output_type": "execute_result",
          "data": {
            "text/plain": [
              "RandomForestRegressor(max_depth=20, max_features='sqrt', n_estimators=500,\n",
              "                      oob_score=True)"
            ]
          },
          "metadata": {},
          "execution_count": 44
        }
      ]
    },
    {
      "cell_type": "code",
      "source": [
        "RF_oob.oob_score_"
      ],
      "metadata": {
        "colab": {
          "base_uri": "https://localhost:8080/"
        },
        "id": "rd-nfmDVeGaY",
        "outputId": "59646675-46d6-4796-c1e1-9dedd0cb1ab1"
      },
      "execution_count": null,
      "outputs": [
        {
          "output_type": "execute_result",
          "data": {
            "text/plain": [
              "0.7730785721910307"
            ]
          },
          "metadata": {},
          "execution_count": 45
        }
      ]
    },
    {
      "cell_type": "code",
      "source": [
        "# Feature Importance \n",
        "features = list(X_train.columns)\n",
        "features"
      ],
      "metadata": {
        "colab": {
          "base_uri": "https://localhost:8080/"
        },
        "id": "CeCv9d02eIPt",
        "outputId": "ffe48b3c-4648-49aa-fc9d-da4535917313"
      },
      "execution_count": null,
      "outputs": [
        {
          "output_type": "execute_result",
          "data": {
            "text/plain": [
              "['DOM',\n",
              " 'Garage Capacity',\n",
              " 'HOA Fee',\n",
              " 'Irregular Shape',\n",
              " 'Quadrant',\n",
              " 'School District',\n",
              " 'Sold Terms',\n",
              " 'Total Bedrooms',\n",
              " 'Total Bathrooms',\n",
              " 'Total Square Feet',\n",
              " 'Year Built',\n",
              " 'Zip',\n",
              " 'year_sold',\n",
              " 'month_sold',\n",
              " 'built_after_2000']"
            ]
          },
          "metadata": {},
          "execution_count": 46
        }
      ]
    },
    {
      "cell_type": "code",
      "source": [
        "RF_Regressor = RandomForestRegressor(n_estimators = 500, max_features='sqrt', max_depth=20, random_state= rand_state)\n",
        "RF_Regressor.fit(X_train, y_train)"
      ],
      "metadata": {
        "colab": {
          "base_uri": "https://localhost:8080/"
        },
        "id": "QlpkpOtJeOO8",
        "outputId": "fdfb92d5-ccef-4c06-f90a-383dc0b3aa94"
      },
      "execution_count": null,
      "outputs": [
        {
          "output_type": "execute_result",
          "data": {
            "text/plain": [
              "RandomForestRegressor(max_depth=20, max_features='sqrt', n_estimators=500,\n",
              "                      random_state=1000)"
            ]
          },
          "metadata": {},
          "execution_count": 47
        }
      ]
    },
    {
      "cell_type": "code",
      "source": [
        "importance = RF_Regressor.feature_importances_\n",
        "importance"
      ],
      "metadata": {
        "colab": {
          "base_uri": "https://localhost:8080/"
        },
        "id": "nQeBM5k9eQNG",
        "outputId": "d70d2ad7-75e8-4f79-e6c5-e23e506ef207"
      },
      "execution_count": null,
      "outputs": [
        {
          "output_type": "execute_result",
          "data": {
            "text/plain": [
              "array([0.04127894, 0.15613663, 0.04068394, 0.01246634, 0.02065348,\n",
              "       0.01704769, 0.02687371, 0.09031669, 0.11711074, 0.32623255,\n",
              "       0.05570161, 0.02771138, 0.02734889, 0.02667515, 0.01376227])"
            ]
          },
          "metadata": {},
          "execution_count": 48
        }
      ]
    },
    {
      "cell_type": "code",
      "source": [
        "FIM = pd.DataFrame({'Features': features, 'Feature_importance':importance})\n",
        "FIM = FIM.sort_values(by=['Feature_importance'])\n",
        "FIM"
      ],
      "metadata": {
        "colab": {
          "base_uri": "https://localhost:8080/",
          "height": 520
        },
        "id": "W_dyQ9-CeR_2",
        "outputId": "f721fd70-9951-4ce2-bda0-d5cbeeb6d663"
      },
      "execution_count": null,
      "outputs": [
        {
          "output_type": "execute_result",
          "data": {
            "text/plain": [
              "             Features  Feature_importance\n",
              "3     Irregular Shape            0.012466\n",
              "14   built_after_2000            0.013762\n",
              "5     School District            0.017048\n",
              "4            Quadrant            0.020653\n",
              "13         month_sold            0.026675\n",
              "6          Sold Terms            0.026874\n",
              "12          year_sold            0.027349\n",
              "11                Zip            0.027711\n",
              "2             HOA Fee            0.040684\n",
              "0                 DOM            0.041279\n",
              "10         Year Built            0.055702\n",
              "7      Total Bedrooms            0.090317\n",
              "8     Total Bathrooms            0.117111\n",
              "1     Garage Capacity            0.156137\n",
              "9   Total Square Feet            0.326233"
            ],
            "text/html": [
              "\n",
              "  <div id=\"df-16777da6-8d19-4edf-9a63-079a04845c46\">\n",
              "    <div class=\"colab-df-container\">\n",
              "      <div>\n",
              "<style scoped>\n",
              "    .dataframe tbody tr th:only-of-type {\n",
              "        vertical-align: middle;\n",
              "    }\n",
              "\n",
              "    .dataframe tbody tr th {\n",
              "        vertical-align: top;\n",
              "    }\n",
              "\n",
              "    .dataframe thead th {\n",
              "        text-align: right;\n",
              "    }\n",
              "</style>\n",
              "<table border=\"1\" class=\"dataframe\">\n",
              "  <thead>\n",
              "    <tr style=\"text-align: right;\">\n",
              "      <th></th>\n",
              "      <th>Features</th>\n",
              "      <th>Feature_importance</th>\n",
              "    </tr>\n",
              "  </thead>\n",
              "  <tbody>\n",
              "    <tr>\n",
              "      <th>3</th>\n",
              "      <td>Irregular Shape</td>\n",
              "      <td>0.012466</td>\n",
              "    </tr>\n",
              "    <tr>\n",
              "      <th>14</th>\n",
              "      <td>built_after_2000</td>\n",
              "      <td>0.013762</td>\n",
              "    </tr>\n",
              "    <tr>\n",
              "      <th>5</th>\n",
              "      <td>School District</td>\n",
              "      <td>0.017048</td>\n",
              "    </tr>\n",
              "    <tr>\n",
              "      <th>4</th>\n",
              "      <td>Quadrant</td>\n",
              "      <td>0.020653</td>\n",
              "    </tr>\n",
              "    <tr>\n",
              "      <th>13</th>\n",
              "      <td>month_sold</td>\n",
              "      <td>0.026675</td>\n",
              "    </tr>\n",
              "    <tr>\n",
              "      <th>6</th>\n",
              "      <td>Sold Terms</td>\n",
              "      <td>0.026874</td>\n",
              "    </tr>\n",
              "    <tr>\n",
              "      <th>12</th>\n",
              "      <td>year_sold</td>\n",
              "      <td>0.027349</td>\n",
              "    </tr>\n",
              "    <tr>\n",
              "      <th>11</th>\n",
              "      <td>Zip</td>\n",
              "      <td>0.027711</td>\n",
              "    </tr>\n",
              "    <tr>\n",
              "      <th>2</th>\n",
              "      <td>HOA Fee</td>\n",
              "      <td>0.040684</td>\n",
              "    </tr>\n",
              "    <tr>\n",
              "      <th>0</th>\n",
              "      <td>DOM</td>\n",
              "      <td>0.041279</td>\n",
              "    </tr>\n",
              "    <tr>\n",
              "      <th>10</th>\n",
              "      <td>Year Built</td>\n",
              "      <td>0.055702</td>\n",
              "    </tr>\n",
              "    <tr>\n",
              "      <th>7</th>\n",
              "      <td>Total Bedrooms</td>\n",
              "      <td>0.090317</td>\n",
              "    </tr>\n",
              "    <tr>\n",
              "      <th>8</th>\n",
              "      <td>Total Bathrooms</td>\n",
              "      <td>0.117111</td>\n",
              "    </tr>\n",
              "    <tr>\n",
              "      <th>1</th>\n",
              "      <td>Garage Capacity</td>\n",
              "      <td>0.156137</td>\n",
              "    </tr>\n",
              "    <tr>\n",
              "      <th>9</th>\n",
              "      <td>Total Square Feet</td>\n",
              "      <td>0.326233</td>\n",
              "    </tr>\n",
              "  </tbody>\n",
              "</table>\n",
              "</div>\n",
              "      <button class=\"colab-df-convert\" onclick=\"convertToInteractive('df-16777da6-8d19-4edf-9a63-079a04845c46')\"\n",
              "              title=\"Convert this dataframe to an interactive table.\"\n",
              "              style=\"display:none;\">\n",
              "        \n",
              "  <svg xmlns=\"http://www.w3.org/2000/svg\" height=\"24px\"viewBox=\"0 0 24 24\"\n",
              "       width=\"24px\">\n",
              "    <path d=\"M0 0h24v24H0V0z\" fill=\"none\"/>\n",
              "    <path d=\"M18.56 5.44l.94 2.06.94-2.06 2.06-.94-2.06-.94-.94-2.06-.94 2.06-2.06.94zm-11 1L8.5 8.5l.94-2.06 2.06-.94-2.06-.94L8.5 2.5l-.94 2.06-2.06.94zm10 10l.94 2.06.94-2.06 2.06-.94-2.06-.94-.94-2.06-.94 2.06-2.06.94z\"/><path d=\"M17.41 7.96l-1.37-1.37c-.4-.4-.92-.59-1.43-.59-.52 0-1.04.2-1.43.59L10.3 9.45l-7.72 7.72c-.78.78-.78 2.05 0 2.83L4 21.41c.39.39.9.59 1.41.59.51 0 1.02-.2 1.41-.59l7.78-7.78 2.81-2.81c.8-.78.8-2.07 0-2.86zM5.41 20L4 18.59l7.72-7.72 1.47 1.35L5.41 20z\"/>\n",
              "  </svg>\n",
              "      </button>\n",
              "      \n",
              "  <style>\n",
              "    .colab-df-container {\n",
              "      display:flex;\n",
              "      flex-wrap:wrap;\n",
              "      gap: 12px;\n",
              "    }\n",
              "\n",
              "    .colab-df-convert {\n",
              "      background-color: #E8F0FE;\n",
              "      border: none;\n",
              "      border-radius: 50%;\n",
              "      cursor: pointer;\n",
              "      display: none;\n",
              "      fill: #1967D2;\n",
              "      height: 32px;\n",
              "      padding: 0 0 0 0;\n",
              "      width: 32px;\n",
              "    }\n",
              "\n",
              "    .colab-df-convert:hover {\n",
              "      background-color: #E2EBFA;\n",
              "      box-shadow: 0px 1px 2px rgba(60, 64, 67, 0.3), 0px 1px 3px 1px rgba(60, 64, 67, 0.15);\n",
              "      fill: #174EA6;\n",
              "    }\n",
              "\n",
              "    [theme=dark] .colab-df-convert {\n",
              "      background-color: #3B4455;\n",
              "      fill: #D2E3FC;\n",
              "    }\n",
              "\n",
              "    [theme=dark] .colab-df-convert:hover {\n",
              "      background-color: #434B5C;\n",
              "      box-shadow: 0px 1px 3px 1px rgba(0, 0, 0, 0.15);\n",
              "      filter: drop-shadow(0px 1px 2px rgba(0, 0, 0, 0.3));\n",
              "      fill: #FFFFFF;\n",
              "    }\n",
              "  </style>\n",
              "\n",
              "      <script>\n",
              "        const buttonEl =\n",
              "          document.querySelector('#df-16777da6-8d19-4edf-9a63-079a04845c46 button.colab-df-convert');\n",
              "        buttonEl.style.display =\n",
              "          google.colab.kernel.accessAllowed ? 'block' : 'none';\n",
              "\n",
              "        async function convertToInteractive(key) {\n",
              "          const element = document.querySelector('#df-16777da6-8d19-4edf-9a63-079a04845c46');\n",
              "          const dataTable =\n",
              "            await google.colab.kernel.invokeFunction('convertToInteractive',\n",
              "                                                     [key], {});\n",
              "          if (!dataTable) return;\n",
              "\n",
              "          const docLinkHtml = 'Like what you see? Visit the ' +\n",
              "            '<a target=\"_blank\" href=https://colab.research.google.com/notebooks/data_table.ipynb>data table notebook</a>'\n",
              "            + ' to learn more about interactive tables.';\n",
              "          element.innerHTML = '';\n",
              "          dataTable['output_type'] = 'display_data';\n",
              "          await google.colab.output.renderOutput(dataTable, element);\n",
              "          const docLink = document.createElement('div');\n",
              "          docLink.innerHTML = docLinkHtml;\n",
              "          element.appendChild(docLink);\n",
              "        }\n",
              "      </script>\n",
              "    </div>\n",
              "  </div>\n",
              "  "
            ]
          },
          "metadata": {},
          "execution_count": 49
        }
      ]
    },
    {
      "cell_type": "code",
      "source": [
        "plt.figure(figsize=(10,6))\n",
        "plt.title('Feature Importance')\n",
        "sns.barplot(y='Features', x='Feature_importance', data=FIM)\n",
        "plt.show()"
      ],
      "metadata": {
        "colab": {
          "base_uri": "https://localhost:8080/",
          "height": 410
        },
        "id": "TS-rumuaeT7i",
        "outputId": "00dd3195-d1b2-41a4-e22b-4481dae2298f"
      },
      "execution_count": null,
      "outputs": [
        {
          "output_type": "display_data",
          "data": {
            "text/plain": [
              "<Figure size 720x432 with 1 Axes>"
            ],
            "image/png": "[encoded data removed]"
          },
          "metadata": {}
        }
      ]
    },
    {
      "cell_type": "code",
      "source": [],
      "metadata": {
        "id": "2njIomAZeXFY"
      },
      "execution_count": null,
      "outputs": []
    }
  ]
}