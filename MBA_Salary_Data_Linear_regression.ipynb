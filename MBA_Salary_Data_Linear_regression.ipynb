{
  "cells": [
    {
      "cell_type": "markdown",
      "metadata": {
        "id": "view-in-github",
        "colab_type": "text"
      },
      "source": [
        "<a href=\"https://colab.research.google.com/github/Jaeek27/Data-Science-Projects/blob/main/MBA_Salary_Data_Linear_regression.ipynb\" target=\"_parent\"><img src=\"https://colab.research.google.com/assets/colab-badge.svg\" alt=\"Open In Colab\"/></a>"
      ]
    },
    {
      "cell_type": "markdown",
      "source": [
        "## Predicting MBA Salary from Grade in 10th Marks"
      ],
      "metadata": {
        "id": "XbQSMkPEKitu"
      }
    },
    {
      "cell_type": "code",
      "execution_count": 1,
      "metadata": {
        "id": "piWOzl4Tt6lo"
      },
      "outputs": [],
      "source": [
        "import pandas as pd\n",
        "import numpy as np"
      ]
    },
    {
      "cell_type": "code",
      "execution_count": 2,
      "metadata": {
        "id": "ZyJMyUy8ujvE"
      },
      "outputs": [],
      "source": [
        "mba_salary_df = pd.read_csv(\"/content/MBA Salary.csv\")"
      ]
    },
    {
      "cell_type": "code",
      "execution_count": 3,
      "metadata": {
        "colab": {
          "base_uri": "https://localhost:8080/",
          "height": 206
        },
        "id": "REywctXbvR_q",
        "outputId": "b3c6eae8-869a-4c63-aac3-bcc4e04351df"
      },
      "outputs": [
        {
          "output_type": "execute_result",
          "data": {
            "text/plain": [
              "   S. No.  Percentage in Grade 10  Salary\n",
              "0       1                   62.00  270000\n",
              "1       2                   76.33  200000\n",
              "2       3                   72.00  240000\n",
              "3       4                   60.00  250000\n",
              "4       5                   61.00  180000"
            ],
            "text/html": [
              "\n",
              "  <div id=\"df-12999567-2498-4b04-b52b-dc6226ad2a4f\">\n",
              "    <div class=\"colab-df-container\">\n",
              "      <div>\n",
              "<style scoped>\n",
              "    .dataframe tbody tr th:only-of-type {\n",
              "        vertical-align: middle;\n",
              "    }\n",
              "\n",
              "    .dataframe tbody tr th {\n",
              "        vertical-align: top;\n",
              "    }\n",
              "\n",
              "    .dataframe thead th {\n",
              "        text-align: right;\n",
              "    }\n",
              "</style>\n",
              "<table border=\"1\" class=\"dataframe\">\n",
              "  <thead>\n",
              "    <tr style=\"text-align: right;\">\n",
              "      <th></th>\n",
              "      <th>S. No.</th>\n",
              "      <th>Percentage in Grade 10</th>\n",
              "      <th>Salary</th>\n",
              "    </tr>\n",
              "  </thead>\n",
              "  <tbody>\n",
              "    <tr>\n",
              "      <th>0</th>\n",
              "      <td>1</td>\n",
              "      <td>62.00</td>\n",
              "      <td>270000</td>\n",
              "    </tr>\n",
              "    <tr>\n",
              "      <th>1</th>\n",
              "      <td>2</td>\n",
              "      <td>76.33</td>\n",
              "      <td>200000</td>\n",
              "    </tr>\n",
              "    <tr>\n",
              "      <th>2</th>\n",
              "      <td>3</td>\n",
              "      <td>72.00</td>\n",
              "      <td>240000</td>\n",
              "    </tr>\n",
              "    <tr>\n",
              "      <th>3</th>\n",
              "      <td>4</td>\n",
              "      <td>60.00</td>\n",
              "      <td>250000</td>\n",
              "    </tr>\n",
              "    <tr>\n",
              "      <th>4</th>\n",
              "      <td>5</td>\n",
              "      <td>61.00</td>\n",
              "      <td>180000</td>\n",
              "    </tr>\n",
              "  </tbody>\n",
              "</table>\n",
              "</div>\n",
              "      <button class=\"colab-df-convert\" onclick=\"convertToInteractive('df-12999567-2498-4b04-b52b-dc6226ad2a4f')\"\n",
              "              title=\"Convert this dataframe to an interactive table.\"\n",
              "              style=\"display:none;\">\n",
              "        \n",
              "  <svg xmlns=\"http://www.w3.org/2000/svg\" height=\"24px\"viewBox=\"0 0 24 24\"\n",
              "       width=\"24px\">\n",
              "    <path d=\"M0 0h24v24H0V0z\" fill=\"none\"/>\n",
              "    <path d=\"M18.56 5.44l.94 2.06.94-2.06 2.06-.94-2.06-.94-.94-2.06-.94 2.06-2.06.94zm-11 1L8.5 8.5l.94-2.06 2.06-.94-2.06-.94L8.5 2.5l-.94 2.06-2.06.94zm10 10l.94 2.06.94-2.06 2.06-.94-2.06-.94-.94-2.06-.94 2.06-2.06.94z\"/><path d=\"M17.41 7.96l-1.37-1.37c-.4-.4-.92-.59-1.43-.59-.52 0-1.04.2-1.43.59L10.3 9.45l-7.72 7.72c-.78.78-.78 2.05 0 2.83L4 21.41c.39.39.9.59 1.41.59.51 0 1.02-.2 1.41-.59l7.78-7.78 2.81-2.81c.8-.78.8-2.07 0-2.86zM5.41 20L4 18.59l7.72-7.72 1.47 1.35L5.41 20z\"/>\n",
              "  </svg>\n",
              "      </button>\n",
              "      \n",
              "  <style>\n",
              "    .colab-df-container {\n",
              "      display:flex;\n",
              "      flex-wrap:wrap;\n",
              "      gap: 12px;\n",
              "    }\n",
              "\n",
              "    .colab-df-convert {\n",
              "      background-color: #E8F0FE;\n",
              "      border: none;\n",
              "      border-radius: 50%;\n",
              "      cursor: pointer;\n",
              "      display: none;\n",
              "      fill: #1967D2;\n",
              "      height: 32px;\n",
              "      padding: 0 0 0 0;\n",
              "      width: 32px;\n",
              "    }\n",
              "\n",
              "    .colab-df-convert:hover {\n",
              "      background-color: #E2EBFA;\n",
              "      box-shadow: 0px 1px 2px rgba(60, 64, 67, 0.3), 0px 1px 3px 1px rgba(60, 64, 67, 0.15);\n",
              "      fill: #174EA6;\n",
              "    }\n",
              "\n",
              "    [theme=dark] .colab-df-convert {\n",
              "      background-color: #3B4455;\n",
              "      fill: #D2E3FC;\n",
              "    }\n",
              "\n",
              "    [theme=dark] .colab-df-convert:hover {\n",
              "      background-color: #434B5C;\n",
              "      box-shadow: 0px 1px 3px 1px rgba(0, 0, 0, 0.15);\n",
              "      filter: drop-shadow(0px 1px 2px rgba(0, 0, 0, 0.3));\n",
              "      fill: #FFFFFF;\n",
              "    }\n",
              "  </style>\n",
              "\n",
              "      <script>\n",
              "        const buttonEl =\n",
              "          document.querySelector('#df-12999567-2498-4b04-b52b-dc6226ad2a4f button.colab-df-convert');\n",
              "        buttonEl.style.display =\n",
              "          google.colab.kernel.accessAllowed ? 'block' : 'none';\n",
              "\n",
              "        async function convertToInteractive(key) {\n",
              "          const element = document.querySelector('#df-12999567-2498-4b04-b52b-dc6226ad2a4f');\n",
              "          const dataTable =\n",
              "            await google.colab.kernel.invokeFunction('convertToInteractive',\n",
              "                                                     [key], {});\n",
              "          if (!dataTable) return;\n",
              "\n",
              "          const docLinkHtml = 'Like what you see? Visit the ' +\n",
              "            '<a target=\"_blank\" href=https://colab.research.google.com/notebooks/data_table.ipynb>data table notebook</a>'\n",
              "            + ' to learn more about interactive tables.';\n",
              "          element.innerHTML = '';\n",
              "          dataTable['output_type'] = 'display_data';\n",
              "          await google.colab.output.renderOutput(dataTable, element);\n",
              "          const docLink = document.createElement('div');\n",
              "          docLink.innerHTML = docLinkHtml;\n",
              "          element.appendChild(docLink);\n",
              "        }\n",
              "      </script>\n",
              "    </div>\n",
              "  </div>\n",
              "  "
            ]
          },
          "metadata": {},
          "execution_count": 3
        }
      ],
      "source": [
        "mba_salary_df.head()"
      ]
    },
    {
      "cell_type": "code",
      "execution_count": 4,
      "metadata": {
        "colab": {
          "base_uri": "https://localhost:8080/",
          "height": 300
        },
        "id": "nXMJqrvhvWia",
        "outputId": "6e9f1e45-b416-4e13-b38a-6209afc340bc"
      },
      "outputs": [
        {
          "output_type": "execute_result",
          "data": {
            "text/plain": [
              "         S. No.  Percentage in Grade 10         Salary\n",
              "count  50.00000               50.000000      50.000000\n",
              "mean   25.50000               63.922400  258192.000000\n",
              "std    14.57738                9.859937   76715.790993\n",
              "min     1.00000               37.330000  120000.000000\n",
              "25%    13.25000               57.685000  204500.000000\n",
              "50%    25.50000               64.700000  250000.000000\n",
              "75%    37.75000               70.000000  300000.000000\n",
              "max    50.00000               83.000000  450000.000000"
            ],
            "text/html": [
              "\n",
              "  <div id=\"df-dbe246a0-1b0d-4797-bbf7-091a8fa5f2f2\">\n",
              "    <div class=\"colab-df-container\">\n",
              "      <div>\n",
              "<style scoped>\n",
              "    .dataframe tbody tr th:only-of-type {\n",
              "        vertical-align: middle;\n",
              "    }\n",
              "\n",
              "    .dataframe tbody tr th {\n",
              "        vertical-align: top;\n",
              "    }\n",
              "\n",
              "    .dataframe thead th {\n",
              "        text-align: right;\n",
              "    }\n",
              "</style>\n",
              "<table border=\"1\" class=\"dataframe\">\n",
              "  <thead>\n",
              "    <tr style=\"text-align: right;\">\n",
              "      <th></th>\n",
              "      <th>S. No.</th>\n",
              "      <th>Percentage in Grade 10</th>\n",
              "      <th>Salary</th>\n",
              "    </tr>\n",
              "  </thead>\n",
              "  <tbody>\n",
              "    <tr>\n",
              "      <th>count</th>\n",
              "      <td>50.00000</td>\n",
              "      <td>50.000000</td>\n",
              "      <td>50.000000</td>\n",
              "    </tr>\n",
              "    <tr>\n",
              "      <th>mean</th>\n",
              "      <td>25.50000</td>\n",
              "      <td>63.922400</td>\n",
              "      <td>258192.000000</td>\n",
              "    </tr>\n",
              "    <tr>\n",
              "      <th>std</th>\n",
              "      <td>14.57738</td>\n",
              "      <td>9.859937</td>\n",
              "      <td>76715.790993</td>\n",
              "    </tr>\n",
              "    <tr>\n",
              "      <th>min</th>\n",
              "      <td>1.00000</td>\n",
              "      <td>37.330000</td>\n",
              "      <td>120000.000000</td>\n",
              "    </tr>\n",
              "    <tr>\n",
              "      <th>25%</th>\n",
              "      <td>13.25000</td>\n",
              "      <td>57.685000</td>\n",
              "      <td>204500.000000</td>\n",
              "    </tr>\n",
              "    <tr>\n",
              "      <th>50%</th>\n",
              "      <td>25.50000</td>\n",
              "      <td>64.700000</td>\n",
              "      <td>250000.000000</td>\n",
              "    </tr>\n",
              "    <tr>\n",
              "      <th>75%</th>\n",
              "      <td>37.75000</td>\n",
              "      <td>70.000000</td>\n",
              "      <td>300000.000000</td>\n",
              "    </tr>\n",
              "    <tr>\n",
              "      <th>max</th>\n",
              "      <td>50.00000</td>\n",
              "      <td>83.000000</td>\n",
              "      <td>450000.000000</td>\n",
              "    </tr>\n",
              "  </tbody>\n",
              "</table>\n",
              "</div>\n",
              "      <button class=\"colab-df-convert\" onclick=\"convertToInteractive('df-dbe246a0-1b0d-4797-bbf7-091a8fa5f2f2')\"\n",
              "              title=\"Convert this dataframe to an interactive table.\"\n",
              "              style=\"display:none;\">\n",
              "        \n",
              "  <svg xmlns=\"http://www.w3.org/2000/svg\" height=\"24px\"viewBox=\"0 0 24 24\"\n",
              "       width=\"24px\">\n",
              "    <path d=\"M0 0h24v24H0V0z\" fill=\"none\"/>\n",
              "    <path d=\"M18.56 5.44l.94 2.06.94-2.06 2.06-.94-2.06-.94-.94-2.06-.94 2.06-2.06.94zm-11 1L8.5 8.5l.94-2.06 2.06-.94-2.06-.94L8.5 2.5l-.94 2.06-2.06.94zm10 10l.94 2.06.94-2.06 2.06-.94-2.06-.94-.94-2.06-.94 2.06-2.06.94z\"/><path d=\"M17.41 7.96l-1.37-1.37c-.4-.4-.92-.59-1.43-.59-.52 0-1.04.2-1.43.59L10.3 9.45l-7.72 7.72c-.78.78-.78 2.05 0 2.83L4 21.41c.39.39.9.59 1.41.59.51 0 1.02-.2 1.41-.59l7.78-7.78 2.81-2.81c.8-.78.8-2.07 0-2.86zM5.41 20L4 18.59l7.72-7.72 1.47 1.35L5.41 20z\"/>\n",
              "  </svg>\n",
              "      </button>\n",
              "      \n",
              "  <style>\n",
              "    .colab-df-container {\n",
              "      display:flex;\n",
              "      flex-wrap:wrap;\n",
              "      gap: 12px;\n",
              "    }\n",
              "\n",
              "    .colab-df-convert {\n",
              "      background-color: #E8F0FE;\n",
              "      border: none;\n",
              "      border-radius: 50%;\n",
              "      cursor: pointer;\n",
              "      display: none;\n",
              "      fill: #1967D2;\n",
              "      height: 32px;\n",
              "      padding: 0 0 0 0;\n",
              "      width: 32px;\n",
              "    }\n",
              "\n",
              "    .colab-df-convert:hover {\n",
              "      background-color: #E2EBFA;\n",
              "      box-shadow: 0px 1px 2px rgba(60, 64, 67, 0.3), 0px 1px 3px 1px rgba(60, 64, 67, 0.15);\n",
              "      fill: #174EA6;\n",
              "    }\n",
              "\n",
              "    [theme=dark] .colab-df-convert {\n",
              "      background-color: #3B4455;\n",
              "      fill: #D2E3FC;\n",
              "    }\n",
              "\n",
              "    [theme=dark] .colab-df-convert:hover {\n",
              "      background-color: #434B5C;\n",
              "      box-shadow: 0px 1px 3px 1px rgba(0, 0, 0, 0.15);\n",
              "      filter: drop-shadow(0px 1px 2px rgba(0, 0, 0, 0.3));\n",
              "      fill: #FFFFFF;\n",
              "    }\n",
              "  </style>\n",
              "\n",
              "      <script>\n",
              "        const buttonEl =\n",
              "          document.querySelector('#df-dbe246a0-1b0d-4797-bbf7-091a8fa5f2f2 button.colab-df-convert');\n",
              "        buttonEl.style.display =\n",
              "          google.colab.kernel.accessAllowed ? 'block' : 'none';\n",
              "\n",
              "        async function convertToInteractive(key) {\n",
              "          const element = document.querySelector('#df-dbe246a0-1b0d-4797-bbf7-091a8fa5f2f2');\n",
              "          const dataTable =\n",
              "            await google.colab.kernel.invokeFunction('convertToInteractive',\n",
              "                                                     [key], {});\n",
              "          if (!dataTable) return;\n",
              "\n",
              "          const docLinkHtml = 'Like what you see? Visit the ' +\n",
              "            '<a target=\"_blank\" href=https://colab.research.google.com/notebooks/data_table.ipynb>data table notebook</a>'\n",
              "            + ' to learn more about interactive tables.';\n",
              "          element.innerHTML = '';\n",
              "          dataTable['output_type'] = 'display_data';\n",
              "          await google.colab.output.renderOutput(dataTable, element);\n",
              "          const docLink = document.createElement('div');\n",
              "          docLink.innerHTML = docLinkHtml;\n",
              "          element.appendChild(docLink);\n",
              "        }\n",
              "      </script>\n",
              "    </div>\n",
              "  </div>\n",
              "  "
            ]
          },
          "metadata": {},
          "execution_count": 4
        }
      ],
      "source": [
        "mba_salary_df.describe()"
      ]
    },
    {
      "cell_type": "code",
      "execution_count": 5,
      "metadata": {
        "colab": {
          "base_uri": "https://localhost:8080/"
        },
        "id": "Ce17Oq0-vZ9_",
        "outputId": "c30d1397-06dd-408f-d82b-e07fe48c39b6"
      },
      "outputs": [
        {
          "output_type": "stream",
          "name": "stdout",
          "text": [
            "<class 'pandas.core.frame.DataFrame'>\n",
            "RangeIndex: 50 entries, 0 to 49\n",
            "Data columns (total 3 columns):\n",
            " #   Column                  Non-Null Count  Dtype  \n",
            "---  ------                  --------------  -----  \n",
            " 0   S. No.                  50 non-null     int64  \n",
            " 1   Percentage in Grade 10  50 non-null     float64\n",
            " 2   Salary                  50 non-null     int64  \n",
            "dtypes: float64(1), int64(2)\n",
            "memory usage: 1.3 KB\n"
          ]
        }
      ],
      "source": [
        "mba_salary_df.info()  ## Gives info about the data"
      ]
    },
    {
      "cell_type": "code",
      "execution_count": 6,
      "metadata": {
        "id": "sll2UpKAvlgH"
      },
      "outputs": [],
      "source": [
        "import statsmodels.api as sm   ## Importing for stats "
      ]
    },
    {
      "cell_type": "code",
      "execution_count": 7,
      "metadata": {
        "colab": {
          "base_uri": "https://localhost:8080/",
          "height": 261
        },
        "id": "oZYwxaFZv9_t",
        "outputId": "67e267f3-dc18-4a34-8282-3d191656be22"
      },
      "outputs": [
        {
          "output_type": "stream",
          "name": "stderr",
          "text": [
            "/usr/local/lib/python3.8/dist-packages/statsmodels/tsa/tsatools.py:142: FutureWarning: In a future version of pandas all arguments of concat except for the argument 'objs' will be keyword-only\n",
            "  x = pd.concat(x[::order], 1)\n"
          ]
        },
        {
          "output_type": "execute_result",
          "data": {
            "text/plain": [
              "   const  Percentage in Grade 10\n",
              "0    1.0                   62.00\n",
              "1    1.0                   76.33\n",
              "2    1.0                   72.00\n",
              "3    1.0                   60.00\n",
              "4    1.0                   61.00"
            ],
            "text/html": [
              "\n",
              "  <div id=\"df-0d1203d6-a7a6-4bb6-a9f5-e4c0696eb326\">\n",
              "    <div class=\"colab-df-container\">\n",
              "      <div>\n",
              "<style scoped>\n",
              "    .dataframe tbody tr th:only-of-type {\n",
              "        vertical-align: middle;\n",
              "    }\n",
              "\n",
              "    .dataframe tbody tr th {\n",
              "        vertical-align: top;\n",
              "    }\n",
              "\n",
              "    .dataframe thead th {\n",
              "        text-align: right;\n",
              "    }\n",
              "</style>\n",
              "<table border=\"1\" class=\"dataframe\">\n",
              "  <thead>\n",
              "    <tr style=\"text-align: right;\">\n",
              "      <th></th>\n",
              "      <th>const</th>\n",
              "      <th>Percentage in Grade 10</th>\n",
              "    </tr>\n",
              "  </thead>\n",
              "  <tbody>\n",
              "    <tr>\n",
              "      <th>0</th>\n",
              "      <td>1.0</td>\n",
              "      <td>62.00</td>\n",
              "    </tr>\n",
              "    <tr>\n",
              "      <th>1</th>\n",
              "      <td>1.0</td>\n",
              "      <td>76.33</td>\n",
              "    </tr>\n",
              "    <tr>\n",
              "      <th>2</th>\n",
              "      <td>1.0</td>\n",
              "      <td>72.00</td>\n",
              "    </tr>\n",
              "    <tr>\n",
              "      <th>3</th>\n",
              "      <td>1.0</td>\n",
              "      <td>60.00</td>\n",
              "    </tr>\n",
              "    <tr>\n",
              "      <th>4</th>\n",
              "      <td>1.0</td>\n",
              "      <td>61.00</td>\n",
              "    </tr>\n",
              "  </tbody>\n",
              "</table>\n",
              "</div>\n",
              "      <button class=\"colab-df-convert\" onclick=\"convertToInteractive('df-0d1203d6-a7a6-4bb6-a9f5-e4c0696eb326')\"\n",
              "              title=\"Convert this dataframe to an interactive table.\"\n",
              "              style=\"display:none;\">\n",
              "        \n",
              "  <svg xmlns=\"http://www.w3.org/2000/svg\" height=\"24px\"viewBox=\"0 0 24 24\"\n",
              "       width=\"24px\">\n",
              "    <path d=\"M0 0h24v24H0V0z\" fill=\"none\"/>\n",
              "    <path d=\"M18.56 5.44l.94 2.06.94-2.06 2.06-.94-2.06-.94-.94-2.06-.94 2.06-2.06.94zm-11 1L8.5 8.5l.94-2.06 2.06-.94-2.06-.94L8.5 2.5l-.94 2.06-2.06.94zm10 10l.94 2.06.94-2.06 2.06-.94-2.06-.94-.94-2.06-.94 2.06-2.06.94z\"/><path d=\"M17.41 7.96l-1.37-1.37c-.4-.4-.92-.59-1.43-.59-.52 0-1.04.2-1.43.59L10.3 9.45l-7.72 7.72c-.78.78-.78 2.05 0 2.83L4 21.41c.39.39.9.59 1.41.59.51 0 1.02-.2 1.41-.59l7.78-7.78 2.81-2.81c.8-.78.8-2.07 0-2.86zM5.41 20L4 18.59l7.72-7.72 1.47 1.35L5.41 20z\"/>\n",
              "  </svg>\n",
              "      </button>\n",
              "      \n",
              "  <style>\n",
              "    .colab-df-container {\n",
              "      display:flex;\n",
              "      flex-wrap:wrap;\n",
              "      gap: 12px;\n",
              "    }\n",
              "\n",
              "    .colab-df-convert {\n",
              "      background-color: #E8F0FE;\n",
              "      border: none;\n",
              "      border-radius: 50%;\n",
              "      cursor: pointer;\n",
              "      display: none;\n",
              "      fill: #1967D2;\n",
              "      height: 32px;\n",
              "      padding: 0 0 0 0;\n",
              "      width: 32px;\n",
              "    }\n",
              "\n",
              "    .colab-df-convert:hover {\n",
              "      background-color: #E2EBFA;\n",
              "      box-shadow: 0px 1px 2px rgba(60, 64, 67, 0.3), 0px 1px 3px 1px rgba(60, 64, 67, 0.15);\n",
              "      fill: #174EA6;\n",
              "    }\n",
              "\n",
              "    [theme=dark] .colab-df-convert {\n",
              "      background-color: #3B4455;\n",
              "      fill: #D2E3FC;\n",
              "    }\n",
              "\n",
              "    [theme=dark] .colab-df-convert:hover {\n",
              "      background-color: #434B5C;\n",
              "      box-shadow: 0px 1px 3px 1px rgba(0, 0, 0, 0.15);\n",
              "      filter: drop-shadow(0px 1px 2px rgba(0, 0, 0, 0.3));\n",
              "      fill: #FFFFFF;\n",
              "    }\n",
              "  </style>\n",
              "\n",
              "      <script>\n",
              "        const buttonEl =\n",
              "          document.querySelector('#df-0d1203d6-a7a6-4bb6-a9f5-e4c0696eb326 button.colab-df-convert');\n",
              "        buttonEl.style.display =\n",
              "          google.colab.kernel.accessAllowed ? 'block' : 'none';\n",
              "\n",
              "        async function convertToInteractive(key) {\n",
              "          const element = document.querySelector('#df-0d1203d6-a7a6-4bb6-a9f5-e4c0696eb326');\n",
              "          const dataTable =\n",
              "            await google.colab.kernel.invokeFunction('convertToInteractive',\n",
              "                                                     [key], {});\n",
              "          if (!dataTable) return;\n",
              "\n",
              "          const docLinkHtml = 'Like what you see? Visit the ' +\n",
              "            '<a target=\"_blank\" href=https://colab.research.google.com/notebooks/data_table.ipynb>data table notebook</a>'\n",
              "            + ' to learn more about interactive tables.';\n",
              "          element.innerHTML = '';\n",
              "          dataTable['output_type'] = 'display_data';\n",
              "          await google.colab.output.renderOutput(dataTable, element);\n",
              "          const docLink = document.createElement('div');\n",
              "          docLink.innerHTML = docLinkHtml;\n",
              "          element.appendChild(docLink);\n",
              "        }\n",
              "      </script>\n",
              "    </div>\n",
              "  </div>\n",
              "  "
            ]
          },
          "metadata": {},
          "execution_count": 7
        }
      ],
      "source": [
        "X = sm.add_constant(mba_salary_df['Percentage in Grade 10'])   ## Creating new column with constant and defining x variable \n",
        "X.head(5) "
      ]
    },
    {
      "cell_type": "code",
      "execution_count": 8,
      "metadata": {
        "id": "X8qh2yMaw08k"
      },
      "outputs": [],
      "source": [
        "Y = mba_salary_df['Salary']"
      ]
    },
    {
      "cell_type": "code",
      "execution_count": 9,
      "metadata": {
        "id": "mWOLCw0XxFZd"
      },
      "outputs": [],
      "source": [
        "from sklearn.model_selection import train_test_split  ## Importing train test split module from skyskit liberary "
      ]
    },
    {
      "cell_type": "code",
      "execution_count": 10,
      "metadata": {
        "id": "b-eQtEnZxe6-"
      },
      "outputs": [],
      "source": [
        "train_X, test_X, train_Y, test_Y = train_test_split( X,\n",
        "                                                    Y,\n",
        "                                                    train_size = 0.8,\n",
        "                                                    random_state = 100)"
      ]
    },
    {
      "cell_type": "code",
      "execution_count": 11,
      "metadata": {
        "id": "8-YTzLQgzc4Z"
      },
      "outputs": [],
      "source": [
        "mba_salary_lm = sm.OLS(train_Y, train_X).fit()    ## Fitting model "
      ]
    },
    {
      "cell_type": "code",
      "execution_count": 12,
      "metadata": {
        "colab": {
          "base_uri": "https://localhost:8080/"
        },
        "id": "G1rxS4hOzpYX",
        "outputId": "18250522-2d04-4a16-f1a9-5e966f893c77"
      },
      "outputs": [
        {
          "output_type": "stream",
          "name": "stdout",
          "text": [
            "const                     30587.285652\n",
            "Percentage in Grade 10     3560.587383\n",
            "dtype: float64\n"
          ]
        }
      ],
      "source": [
        "print(mba_salary_lm.params)  ## Finding values of parameters "
      ]
    },
    {
      "cell_type": "code",
      "execution_count": 13,
      "metadata": {
        "colab": {
          "base_uri": "https://localhost:8080/",
          "height": 322
        },
        "id": "I8AAlydP08kk",
        "outputId": "60476a38-b549-41f2-a668-94003ce91bed"
      },
      "outputs": [
        {
          "output_type": "execute_result",
          "data": {
            "text/plain": [
              "<class 'statsmodels.iolib.summary2.Summary'>\n",
              "\"\"\"\n",
              "                          Results: Ordinary least squares\n",
              "===================================================================================\n",
              "Model:                    OLS                   Adj. R-squared:          0.190     \n",
              "Dependent Variable:       Salary                AIC:                     1008.8680 \n",
              "Date:                     2023-01-21 07:34      BIC:                     1012.2458 \n",
              "No. Observations:         40                    Log-Likelihood:          -502.43   \n",
              "Df Model:                 1                     F-statistic:             10.16     \n",
              "Df Residuals:             38                    Prob (F-statistic):      0.00287   \n",
              "R-squared:                0.211                 Scale:                   5.0121e+09\n",
              "-----------------------------------------------------------------------------------\n",
              "                         Coef.     Std.Err.    t    P>|t|     [0.025       0.975]  \n",
              "-----------------------------------------------------------------------------------\n",
              "const                  30587.2857 71869.4497 0.4256 0.6728 -114904.8089 176079.3802\n",
              "Percentage in Grade 10  3560.5874  1116.9258 3.1878 0.0029    1299.4892   5821.6855\n",
              "-----------------------------------------------------------------------------------\n",
              "Omnibus:                    2.048              Durbin-Watson:                 2.611\n",
              "Prob(Omnibus):              0.359              Jarque-Bera (JB):              1.724\n",
              "Skew:                       0.369              Prob(JB):                      0.422\n",
              "Kurtosis:                   2.300              Condition No.:                 413  \n",
              "===================================================================================\n",
              "\n",
              "\"\"\""
            ],
            "text/html": [
              "<table class=\"simpletable\">\n",
              "<tr>\n",
              "        <td>Model:</td>               <td>OLS</td>         <td>Adj. R-squared:</td>      <td>0.190</td>  \n",
              "</tr>\n",
              "<tr>\n",
              "  <td>Dependent Variable:</td>      <td>Salary</td>             <td>AIC:</td>          <td>1008.8680</td>\n",
              "</tr>\n",
              "<tr>\n",
              "         <td>Date:</td>        <td>2023-01-21 07:34</td>        <td>BIC:</td>          <td>1012.2458</td>\n",
              "</tr>\n",
              "<tr>\n",
              "   <td>No. Observations:</td>         <td>40</td>          <td>Log-Likelihood:</td>     <td>-502.43</td> \n",
              "</tr>\n",
              "<tr>\n",
              "       <td>Df Model:</td>              <td>1</td>           <td>F-statistic:</td>        <td>10.16</td>  \n",
              "</tr>\n",
              "<tr>\n",
              "     <td>Df Residuals:</td>           <td>38</td>        <td>Prob (F-statistic):</td>   <td>0.00287</td> \n",
              "</tr>\n",
              "<tr>\n",
              "      <td>R-squared:</td>            <td>0.211</td>            <td>Scale:</td>        <td>5.0121e+09</td>\n",
              "</tr>\n",
              "</table>\n",
              "<table class=\"simpletable\">\n",
              "<tr>\n",
              "             <td></td>               <th>Coef.</th>    <th>Std.Err.</th>     <th>t</th>    <th>P>|t|</th>    <th>[0.025</th>      <th>0.975]</th>   \n",
              "</tr>\n",
              "<tr>\n",
              "  <th>const</th>                  <td>30587.2857</td> <td>71869.4497</td> <td>0.4256</td> <td>0.6728</td> <td>-114904.8089</td> <td>176079.3802</td>\n",
              "</tr>\n",
              "<tr>\n",
              "  <th>Percentage in Grade 10</th>  <td>3560.5874</td>  <td>1116.9258</td> <td>3.1878</td> <td>0.0029</td>   <td>1299.4892</td>   <td>5821.6855</td> \n",
              "</tr>\n",
              "</table>\n",
              "<table class=\"simpletable\">\n",
              "<tr>\n",
              "     <td>Omnibus:</td>    <td>2.048</td>  <td>Durbin-Watson:</td>   <td>2.611</td>\n",
              "</tr>\n",
              "<tr>\n",
              "  <td>Prob(Omnibus):</td> <td>0.359</td> <td>Jarque-Bera (JB):</td> <td>1.724</td>\n",
              "</tr>\n",
              "<tr>\n",
              "       <td>Skew:</td>     <td>0.369</td>     <td>Prob(JB):</td>     <td>0.422</td>\n",
              "</tr>\n",
              "<tr>\n",
              "     <td>Kurtosis:</td>   <td>2.300</td>  <td>Condition No.:</td>    <td>413</td> \n",
              "</tr>\n",
              "</table>"
            ]
          },
          "metadata": {},
          "execution_count": 13
        }
      ],
      "source": [
        "mba_salary_lm.summary2()  ## For summary "
      ]
    },
    {
      "cell_type": "code",
      "execution_count": 15,
      "metadata": {
        "id": "39c-8TWS1IPF"
      },
      "outputs": [],
      "source": [
        "## Check for Normal Distribution of Residual\n",
        "import matplotlib.pyplot as plt\n",
        "import seaborn as sn\n",
        "%matplotlib inline "
      ]
    },
    {
      "cell_type": "code",
      "execution_count": 16,
      "metadata": {
        "colab": {
          "base_uri": "https://localhost:8080/",
          "height": 312
        },
        "id": "EkZ6l8wTI3YV",
        "outputId": "c24af358-d8f9-491e-a728-79ecd2cae677"
      },
      "outputs": [
        {
          "output_type": "display_data",
          "data": {
            "text/plain": [
              "<Figure size 576x432 with 0 Axes>"
            ]
          },
          "metadata": {}
        },
        {
          "output_type": "display_data",
          "data": {
            "text/plain": [
              "<Figure size 432x288 with 1 Axes>"
            ],
            "image/png": "iVBORw0KGgoAAAANSUhEUgAAAYoAAAEWCAYAAAB42tAoAAAABHNCSVQICAgIfAhkiAAAAAlwSFlzAAALEgAACxIB0t1+/AAAADh0RVh0U29mdHdhcmUAbWF0cGxvdGxpYiB2ZXJzaW9uMy4yLjIsIGh0dHA6Ly9tYXRwbG90bGliLm9yZy+WH4yJAAAgAElEQVR4nO3dd5hURdbH8e9PDIiCKOCaCGbFLKOIaTHsGhfc1V0TZsU15/yuqJgD5oRZMCEqIqKoKAYUySCgKGIARAUFBAVJ5/2jaqQZZ3p6Qvft7jmf5+lnum8893ZPn66qe6tkZjjnnHMVWSHpAJxzzuU3TxTOOefS8kThnHMuLU8Uzjnn0vJE4ZxzLi1PFM4559LyRJEwSSZpk6TjKCXpeEkf5Ghfm0saLWmupLNzsc9ckdRC0jxJ9ZKOpTbV9udD0lWSesbnWTlnkr6WtG9tbrOS/aU9jtRjroV95eT7o+ATRfwQ/ChptZRpJ0salGBYtULSIEkL4odupqQXJa1bwbJXSVoUl50t6UNJ7Wq6bAbxnVzV9VJcDLxjZg3N7K4Ktp/R8ecbM/vWzFY3syW1vW1JHWOC/SWel7clbRjn1dqXUK5l85xVRNLjkhbGz9jPkt6UtEVNtpnEcWRbwSeKqB5wTk03oiDfzsmZZrY6sBnQGLg9zbLPxWWbAR8AL0pSLSybLS2B8ZUsU3r8mwCrA7fWdhCSVqztbWZL/PX4JHABsAawIXAvkPdfSnl8nm+On7H1gWnAIwnHk3fy7Uuxum4BLpTUuLyZknaVNEzSnPh315R5gyRdJ2kw8BuwkaQTJH0aq0QmSzo1Zfn2kqZKujiWZKZLOkTSgZI+j79KLk9ZfmdJH8Vf7tMl3SNp5aoeoJn9DLwAbJ3BsouAJ4B1gCY1WbaicyfpOmAP4J74a+ye8rYvqYOk8fH4B0naMk5/G9grZf3NKolzNtAH2D5l21vEX4A/S5oo6T8p85pIeiX+6h4m6VqlVJnEIvsZkr4AvojTDo6/1EtLWdumLH+JpGnxMzFR0j5x+s6Shsf9/CCpW5zeKu5jxfh6PUl9Y6yTJJ2Ssu2rJPWS9GTc/nhJJRWciu2Br8xsoAVzzewFM/tW0v7A5cDh8ZyOidvP5PN8Qcrn+YQy57FvPL6hwMZl3t87JU2J80dI2qPMcfWW1FPSL8DxkjaU9G6M5U2gacryf5wzSe3iMZQ+Fkj6Oi63gqRLJX0p6ad47tZK2c4xkr6J866o4Dz+iZnNB3qx/GdsPUkvSJoh6SulVJFW4b1Pd8ztJU0tc07/qCpTFb4/FL6DJsT9TJN0YabHnsnJKegH8DWwL/AicG2cdjIwKD5fC5gFHAOsCBwZXzeJ8wcB3wJbxfkrAQcR/iEE/JWQQHaMy7cHFgNXxmVPAWYATwMN43bmAxvG5dsAu8RttwI+Bc5Nid+ATSo4tkHAyfF5U+BtoEcFy14F9IzPVyEkz2+ruixwPPBBFc7dyWnem82AX4G/xXN1MTAJWDnD9VOPvwnwFvByfL0aMAU4Ica2AzATaB3nPxsfDYDWcdkPypz3N+MxrhrX/xFoSyihHkf4bK0CbB7XXy+u2wrYOD7/CDgmPl8d2CVlGQNWjK/fA+4D6hO+iGYAe6e8HwuAA+O+bwCGVHBONorL3k5ItKtX9N6mTMvk83xNfI8OjPPXTDmPveL53prwizv1PHaK782KhFLO90D9lFgWAYcQfpSuGs9Xt3he9wTmsuyzuNw5S9nHSsC7wA3x9TnAEGCDuJ0HgWfivNbAvLjtVeK+FgP7VnA+H2fZ98ZqQA9gTHy9AjCC8L++cjz3k4H9qvjepzvm9sDU8r7Tqvr9AUwH9ojP1yx9j2vle7a2NpTUg2WJYmtgDqEqJTVRHAMMLbPOR8DxKV9G11Syjz7AOSlv7HygXnzdML5ZbVOWHwEcUsG2zgVeKu+NLmfZQYR/2tmEf9CngGYVLHsVsDAu+yMhqbSp6rIsnygyOXfpvuj/B/RKeb1CPI72Ga5fevxz4nkaDbSI8w4H3i+z/INAF8KX7SJg85R51/LnRLF3yuv7ga5ltjeR8MW6STxP+wIrlVnmPeBqoGmZ6a3iPlYEmhOqhhqmzL8BeDzl/XgrZV5rYH6a87IL4ct7BiFpPE5MGJSTKDL8PK+YMv/HuI/S87hFyrzrU89jOdueBWyXEst7KfNaEL60V0uZ9jSVJ4r7gX7ACvH1p8A+KfPXjXGuSPhSfzZl3mqEz3q6RLGA8L+wFPgK2DbOa0uZH1vAZcBjVXjvKzvm9qRJFFX5/iD84D0VaJTu/a/Oo1iqnjCzcYQP06VlZq0HfFNm2jeE+shSU1JnSjpA0pBYTTCb8CuracoiP9myhqr58e8PKfPnE35hIGkzSf0kfR+L39eX2VZlzjazxma2vpkdbWYzJB2dUiR/LWXZXnHZtc1sbzMbkWa7mSybyblLZ7n1zWwp4Vxnuj6E418D2JbwK2mDOL0l0DYWyWfH9+loQhVaM8I/aer7utx7XM60lsAFZbbXnFCKmET4B70K+FHSs5LWi+udRCg5faZQxXVwOftZD/jZzOamTCt7Hr9Pef4bUF8V1Omb2RAz+4+ZNSNU/+0JVFjFkuHneXGZ/Ze2X5U9j8t9HiRdGKu15sRtr1Fm26nrrgfMMrNfK9peObGfSvgyPSp+fiC8Vy+lvE+fEhLxX+I+/thn3NdP6fYB3GpmjQlf8PMJJcjS/axX5jNxedwPZP7eV+mYU1Xx++NQwnv7TazqqvIFKhUpmkQRdSFUBaX+A35HeMNTtSD8si1lpU8krUJoC7gV+Ev8APUnFNur437gM2BTM2tE+KDVqNHYzJ6ycFXF6mZ2QE22VYnKzp2R3nLrSxLhy3dahWtUwMw+IZQK7o3bmQK8G5Nd6WN1MzuN8Et7McuSCnG/f9psyvMpwHVlttfAzJ6J+3/azHaPx2PATXH6F2Z2JLB2nNZbKVfgpZyHtSQ1TJlW9jNYLWY2jFDtWtp2tdx7UsPPc+l5TD13LVK2vQehOvE/hKqqxoTSX+q2U+OZDqxZ5vy0oAJx+12Bjmb2S8qsKcABZd6r+mY2Le6jeco2GlBJO90fgZp9S6jWulPSqnE/X5XZT0MzOzAun8l7X9kx/0qoHi2Ntx4hQZfK+PvDzIaZWccYTx9CqbNWFFWiiL/8ngNSr8nvD2wm6ajYSHY4oWjfr4LNrEyoS5wBLJZ0APD3GoTVEPgFmKdw2d1pNdhWrlV27n4g1NtWpBdwkKR9JK1EqMP+HfiwmvE8Qfg11yHGsFlsuFwpPnaStGUs7b0IXCWpQTzvx1ay7YeA/0pqq2A1SQdJaqhwv8fe8Ut3AeFX51IASZ0kNYu/dmfHbS1N3bCZTYnHfIOk+gqN5CcBVb6MVdLukk6RtHZ8vUU8H0PiIj8ArbTs6r1qf57LOY+tCW03pRoSEskMYEVJVwKN0mzvG2A4cLWklSXtDvyjguNsTvj8HGtmn5eZ/QBwnaSWcdlmkjrGeb2Bg+N5WpnQ9pLx95yZvUlI7J2BocBchQsZVpVUT9LWknaK+83kva/smD8nlB4Piv8j/0d4v0pl9P0Rt320pDUsXKDyS9lYaqKoEkV0DaFeEgAz+wk4mPAl9RPhF9DBZjazvJVj9cDZhA/pLOAooG8N4rkwbmMu4cvouRpsK6cyOHd3AodJmiXpT/dBmNlEQmPn3YSG5n8A/zCzhdWMZ2Hc5//i+/R34AjCP/b3hF91pf9kZxKqQb4nNFA+Q0hSFW17OKE0eg/hfZ9EaK8hbvPGeAzfE36xXRbn7Q+MlzQvxnaEhatnyjqSULXxHfAS0MXM3qrK8UezCYnhk7jP1+P2bo7zn49/f5I0shY+z2cSqqG+J9TnP5Yyb0Dc/+eE6pQFlF/Fl+ooQt3/z4QagCcrWG4fwo+C3inVrKWXUt8Zj+ENSXMJSbItgJmNB84gtANMJxzz1LIbr8QthM/6ioTP//aEtouZwMOEzxVk/t5XeMxmNgc4PW53GqGEkRpvVb4/jgG+jlVU/yVUxdYKxUYQ54qapJuAdczsuEoXds4tpxhLFM6V3mOxbaxG2plQ1fNS0nE5V4iyligkPapwA8+4CuZL0l0KNx+NlbRjtmJxdVJDQv36r4Ti+m3Ay4lG5FyBylrVk6Q9CTe+PGlmf7qbWNKBwFmEy7naAneaWdusBOOcc67aslaiMLP3CI03FelISCJmZkOAxiqQDt+cc64uSbKTrvVZ/gqJqXHa9LILSupMuFyN1VZbrc0WW9Soc0fn8tqINLdJtmmT/fn5EIMfQ/hb420sXgxTpsDPPzMCZsabNKuuNm/zLvsgXA44roJ5/YDdU14PBEoq22abNm3MuWLWsqUZ/PnRsmVu5udDDH4MNdxGi6VmTz9t1rSp2UormV11lQHDrbrf5dVdMaONp08UDwJHpryeCKxb2TY9Ubhi17OnWYMGy//jN2gQpudifj7E4MdQ/W1sUn+KTdnh4PBi553NPvnEzKxgE8VBwGuE29F3oUzncxU9PFG4uqBnz/BrUQp/U788cjE/H2LwY6jaNlZgiV261oP2+6qNzFZd1axbN7PFi/9YriaJIptXPT1D6MyrKaFbgS6E7oIxswdifz33EO5u/A04wcLdsWmVlJTY8OGVLuacc3XHpElwyikwaBDstRc89BBsvNzQIUgaYWYVjXOSVtYasy10lpVuvhFutXfOOVcdixfDnXfC//4HK60UEsRJJ0EtD1aZr0MTOuecS+eTT0JSGDYMOnSA++6D9avSg3/mvAsP55wrJL//Dl26wI47wtdfw7PPQp8+WUsS4CUK55wrHB9/HEoR48dDp05w++3QtCrjoFWPlyiccy7f/fornH8+tGsHc+ZAv37Qo0dOkgR4icI55/Lb22+HK5omT4bTToMbb4RGFY4PlRVeonDOuXw0e3ZIEPvsA/XqhUtf77sv50kCPFE451z+efllaN0aHn0ULr4YxoyBv/41sXA8UTjnXL748Uc44gg45BBo1iw0Xt90E6y6aqJheaJwzrmkmUHPnrDllvDSS9C1KwwfDiXVupG61nljtnPOJWnKFPjvf6F/f9hlF3jkkVDtlEe8ROGcc0lYuhTuvx+22io0VN9xB3zwQd4lCfAShXPO5d7nn4crmt57D/bdF7p3hw03TDqqCnmJwjnncmXxYrj5ZthuOxg7NlzV9MYbeZ0kwEsUzjmXG2PGwIknwsiR8M9/wr33wrrrJh1VRrxE4Zxz2fT776Eb8JISmDoVnn8eXnihYJIEeInCOeey56OPQid+n34Kxx4L3bpBkyZJR1VlXqJwzrnaNm8enHsu7LZb6NDvtdfgiScKMkmAlyicc652vfkmdO4cxoo480y4/npo2DDpqGrESxTOOVcbZs0KjdV//zussgq8/z7cfXfBJwnwROGcczX30kvhRrknn4TLLoPRo2H33ZOOqtZ41ZNzzlXX99/DWWdB796w/fbw6qthiNIi4yUK55yrKrNQemjdGl55JbRDDB1alEkCvEThnHNV8803cOqpMGAA7Lpr6MRviy2SjiqrvEThnHOZWLoU7rkndOL3wQehofr994s+SYCXKJxzrnITJ4Yb5wYPhv32gwcfhJYtk44qZ7xE4ZxzFVm0CG64IXTiN2ECPP54uHmuDiUJ8BKFc86Vb9SoUIoYNQoOOyxUNa2zTtJRJcJLFM45l2rBArj8cthpJ/juu9CB3/PP19kkAV6icM65ZT74AE4+ObRJnHAC3HYbrLlm0lElzksUzjk3d27ol2mPPUK34G+8EQYV8iQBeKJwztV1AwbA1lvDfffB2WfDJ5/A3/6WdFR5xROFc65u+vlnOO442H9/aNAgVDvdeSesvnrSkeUdTxTOubqnd2/Yckt4+mm44opwZdOuuyYdVd7yxmznXN0xfXpoi3jxxdAv04ABoTM/l5aXKJxzxc8MHnssdOLXvz/cdBN8/LEniQxlNVFI2l/SREmTJF1azvwWkt6RNErSWEkHZjMe51wd9NVXYTChE0+EbbaBMWPg4othRa9QyVTWEoWkesC9wAFAa+BISa3LLPZ/QC8z2wE4ArgvW/E45+qYJUvgrrvCFU1DhoSrmgYNgs02SzqygpPNlLozMMnMJgNIehboCExIWcaARvH5GsB3WYzHOVdXfPpp6H7jo4/ggAPggQegRYukoypY2ax6Wh+YkvJ6apyW6iqgk6SpQH/grPI2JKmzpOGShs+YMSMbsTrnisGiRXDddaHtYeJE6NEjjDrnSaJGkm7MPhJ43Mw2AA4Eekj6U0xm1t3MSsyspFmzZjkP0jlXAEaMgJIS+L//g0MOCaWKTp1ASjqygpfNRDENaJ7yeoM4LdVJQC8AM/sIqA80zWJMzrliM38+XHIJtG0LM2bASy/Bc8/B2msnHVnRyGaiGAZsKmlDSSsTGqv7llnmW2AfAElbEhKF1y055zLz3nthrIibbw6d+E2YEEoTrlZlLVGY2WLgTGAA8Cnh6qbxkq6R1CEudgFwiqQxwDPA8WZm2YrJOVckfvkFTj8d/vpXWLwY3noLHnoIGjdOOrKilNULic2sP6GROnXalSnPJwC7ZTMG51yR6d8f/vtfmDoVzjsPunaF1VZLOqqi5necOOcKw8yZITH07BnusP7wQ9hll6SjqhOSvurJOefSM4NevUJyePZZuPJKGDnSk0QOeYnCOZe/vvsutEW8/HK49PWtt2DbbZOOqs7xEoVzLv+YwcMPh1LEgAFw663hLmtPEonwEoVzLr9MngynnAJvvx2uanr4Ydhkk6SjqtO8ROGcyw9LlsDtt4dO/IYNgwcfDMnCk0TivEThnEve+PGhE7+PP4aDDgqd+G2wQdJRuchLFM655CxcCNdcAzvsAF9+GYYmfeUVTxJ5xksUzrlkDBsWBhMaNw6OOgruuAO808+85CUK51xu/fYbXHhhuA9i1izo2xeeesqTRB7zEoVzLncGDYKTTw7VTKeeGsauXmONpKNylai0RCHpZkmNJK0kaaCkGZI65SI451yRmDMnJIa99gqv3347NFh7kigImVQ9/d3MfgEOBr4GNgEuymZQzrki0q8fbLVVuB/iwgth7NhlCcMVhEwSRWn11EHA82Y2J4vxOOeKxYwZoZH6H/+ANdcMd1bfcgs0aJB0ZK6KMkkU/SR9BrQBBkpqBizIbljOuYJlFi5z3XJL6N0brr46DFO6885JR+aqqdJEYWaXArsCJWa2CPgN6JjtwJxzBWjqVOjQAY4+OtxRPWpU6O115ZWTjszVQCaN2Q2A04H746T1gJJsBuWcKzBLl4YuN1q3hoEDoVs3GDw4tE24gpdJ1dNjwEJCqQJgGnBt1iJyzhWWSZNgn33CqHM77RRuoDvvPKhXL+nIXC3JJFFsbGY3A4sAzOw3QFmNyjmX/xYvDt1/b7NNGEjooYfCeBEbbZR0ZK6WZXLD3UJJqwIGIGlj4PesRuWcy2+ffBI68Rs2LLRJ3HcfrL9+0lG5LMmkRNEFeB1oLukpYCBwcVajcs7lp99/hy5dYMcd4euv4bnnoE8fTxJFrtIShZm9KWkksAuhyukcM5uZ9cicc/llyJBQipgwATp1Cp34NWmSdFQuByosUUjaIv7dEWgJTAe+A1rEac65uuDXX+H882HXXeGXX+DVV6FHD08SdUi6EsX5QGfgtnLmGbB3ViJyzuWPgQPDsKRffQWnnQY33giNGiUdlcuxChOFmXWOTw8ws+XuxJZUP6tROeeSNXs2XHRR6J9p003h3Xdhzz2TjsolJJPG7A8znOacKwYvvxxunHv0Ubj4YhgzxpNEHVdhiULSOsD6wKqSdmDZvRONAO/Vy7li88MPcPbZ0KsXbLttGFCoxDthcOnbKPYDjgc2ALqlTJ8LXJ7FmJxzuWQWRpg75xyYNw+uvTaUJFZaKenIXJ5I10bxBPCEpEPN7IUcxuScy5Vvvw1db7z2GrRrB488Enp9dS5FuqqnTmbWE2gl6fyy882sWzmrOecKQWknfhdfHJ7feSeccYb3z+TKla7qabX4d/VcBOKcy5HPPw/jVr//Puy7L3TvDhtumHRULo+lq3p6MP69OnfhOOeyZvHi0P13ly5Qv364qun440Hex6dLL13V013pVjSzs2s/HOdcVowZAyeeGHp5/ec/4d57Yd11k47KFYh0VU8jchaFcy47FiwIVzHddFPocqN3bzj00KSjcgWmsqueakTS/sCdQD3gYTO7sZxl/gNcRegWZIyZHVXT/TrngA8/DJ34ffYZHHdcqHZaa62ko3IFKF3V0x1mdq6kV4hjUaQysw7pNiypHnAv8DdgKjBMUl8zm5CyzKbAZcBuZjZL0trVPA7nXKl58+CKK+Duu6F5c3j9ddhvv6SjcgUsXdVTj/j31mpue2dgkplNBpD0LNARmJCyzCnAvWY2C8DMfqzmvpxzAG+8AZ07wzffwJlnwvXXQ8OGSUflCly6qqcR8e+7klYGtiCULCaa2cIMtr0+MCXl9VSgbZllNgOQNJhQPXWVmb1edkOSOhN6sqVFixYZ7Nq5OmbWrNAV+OOPw+abh0tfd9896ahckai0U0BJBwFfAncB9wCTJB1QS/tfEdgUaA8cCTwkqXHZhcysu5mVmFlJs2bNamnXzhWJF18Mnfj16AGXXQajR3uScLUqkzGzbwP2MrNJ8MeY2a8Cr1Wy3jSgecrrDeK0VFOBj81sEfCVpM8JiWNYBnE5V7d9/32oXnrhBdh+e+jfH3bYIemoXBHKpJvxuaVJIppM6BiwMsOATSVtGKuujgD6llmmD6E0gaSmhKqoyRls27m6ywyeeCKUIvr1C+0QQ4d6knBZk+6qp3/Fp8Ml9Qd6Edoo/k0Gv/jNbLGkM4EBhPaHR81svKRrgOFm1jfO+7ukCcAS4CIz+6lGR+RcMfvmGzj1VBgwAHbbLQwstMUWSUflipzM/nTla5ghPZZuRTM7ISsRVaKkpMSGDx+exK6dS87SpXDffXDppeH1jTfC6afDCplUCjgHkkaYWbUGGEl31VMiicA5V8Znn4VO/AYPDvdDPPggtGyZdFSuDqm0MTuOj30SsBXwx1jZZnZiFuNyzi1aBLfcAldfDautFtoljjnGO/FzOZdJubUHsA5hxLt3CVcvZdKY7ZyrrlGjYOedwx3WHTrAp5/Cscd6knCJyCRRbGJm/wN+jf0/HcSfb5xzztWGBQvCvRA77RQuf33hBXj+efjLX5KOzNVhmdxHsSj+nS1pa+B7wPtkcq62ffBB6MTv88/hhBPgtttgzTWTjsq5jEoU3SWtCfyPcB/EBOCmrEblXF0yd264cW6PPWDhwtBf06OPepJweaPSEoWZPRyfvgtslN1wnKtjXn893BcxZQqcc04YO2J1H33Y5ZdM+npqIuluSSMljZB0h6QmuQjOuaL1009hjIgDDghXNA0eDHfc4UnC5aVMqp6eBX4EDgUOA2YCz2UzKOeKllkYZa51a3j6afi//wtXOLVrl3RkzlUok8bsdc2sa8rrayUdnq2AnCta06fDGWfASy9BmzahLWK77ZKOyrlKZVKieEPSEZJWiI//EPpocs5lwgweeyyUIl57LYxfPWSIJwlXMNJ1CjiX0AmggHOBnnHWCsA84MKsR+dcofvqqzDi3FtvhauaHn4YNtss6aicq5J0fT35+InOVdeSJXDPPXD55VCvXujQ79RTvRM/V5AyaaNAUgdgz/hykJn1y15IzhW4CRNCJ34ffRSuanrwQWjevPL1nMtTmVweeyNwDuFGuwnAOZJuyHZgzhWcRYvCfRA77BDuru7ZE1591ZOEK3iZlCgOBLY3s6UAkp4ARgGXZTMw5wrKiBFw4okwdiwcfjjcdRes7T3duOKQaYVp45Tna2QjEOcK0vz5cMkloafXGTOgTx949llPEq6oZFKiuB4YJekdwhVQewKXZjUq5wrBu+/CKafAF1+ENolbboHGjStfz7kCkzZRSFoBWArsAuwUJ19iZt9nOzDn8tYvv4RSxAMPwEYbhUtf99kn6aicy5q0icLMlkq62Mx6EXqOda5u698/XOb63Xdw/vlwzTWhrybnilgmbRRvSbpQUnNJa5U+sh6Zc/lk5kzo1AkOOggaNYIPPwzjRXiScHVAJm0Upf06nZEyzfAux11dYAa9esFZZ8GsWdClSxiBbpVVko7MuZzJZDyKDXMRiHN5Z9o0OP106NsXSkpg4EDYZpuko3Iu5yqsepLUVtIYSfMkfSRpy1wG5lxizOChh0Infm+8AbfeGu6y9iTh6qh0bRT3Ejr+awJ0A+7ISUTOJenLL8MVTJ07w447wiefwAUXwIoZ9XbjXFFKlyhWMLM3zex3M3seaJaroJzLuSVLoFu3UGoYMSL0zzRwIGyySdKROZe4dD+TGkv6V0WvzezF7IXlXA6NGwcnnQRDh8LBB8P998MGGyQdlXN5I12ieBf4RwWvDfBE4QrbwoVwww1w3XWwxhphaNIjjgAp6cicyyvpxqM4IZeBOJdTQ4eGUsS4cXDUUXDHHdDMa1edK4+PouLqlt9+gwsvhHbtwn0RffvCU095knAuDb+Uw9Ud77wTOu+bPDl0w3HTTaHKyTmXlpcoXPGbMyckhr33Du0P77wTOvTzJOFcRjIZ4a6BpP9Jeii+3lTSwdkPzbla8Mor4ca5hx8OVU5jx0L79klH5VxByaRE8RjwO9Auvp4GXJu1iJyrDTNmhEbqDh2gSRMYMiSMF9GgQdKROVdwMkkUG5vZzcAiADP7jTCAkXP5xyxc5rrlltC7N1x9NQwfDjvtVPm6zrlyZZIoFkpalXDvBJI2JpQwKiVpf0kTJU2SVOGoeJIOlWSSSjKK2rnyTJkC//gHHH10uKN61Ci48kpYeeWkI3OuoGWSKLoArwPNJT0FDAQurmwlSfUI/UUdALQGjpTUupzlGgLnAB9XIW7nllm6NHS5sdVWoaH69tth8ODw2jlXY5l0M/6mpJGE4VAFnGNmMzPY9s7AJDObDCDpWaAjMKHMcl2Bm4CLqhK4c0AYr/qUU8L41fvsA927h+FJnXO1Jl034zuWPoCWwHTgO6BFnFaZ9YEpKa+nxmnL7QNobmavptuQpDAYdtUAABTISURBVM6ShksaPmPGjAx27Yre4sWh++9tt4XRo8NVTW++6UnCuSxIV6K4Lc08A/auyY4lrUDovvz4ypY1s+5Ad4CSkhKryX5dERg7NnS/MXw4dOwI990H662XdFTOFa10fT3tVcNtTwOap7zeIE4r1RDYGhik0AnbOkBfSR3MbHgN9+2K0e+/hw78brgB1lwTnnsO/v1v78TPuSyrtI1CUn3gdGB3QknifeABM1tQyarDgE0lbUhIEEcAR5XONLM5QNOU/QwCLvQk4co1ZEgoRUyYAJ06hU78mjRJOirn6oRMrnp6EtgKuBu4Jz7vUdlKZrYYOBMYAHwK9DKz8ZKukdSh+iG7OuXXX+G882DXXWHuXHj1VejRw5OEczmUSaeAW5tZ6mWt70gqe+VSucysP9C/zLQrK1i2fSbbdHXIwIHhiqavvoLTTw9VTo0aJR2Vc3VOJiWKkZJ2KX0hqS3g1UMue2bPDr287rtvGKv63Xfh3ns9STiXkExKFG2ADyV9G1+3ACZK+gQwM9s2a9G5uqdPn1B6+PFHuOQS6NIFVl016aicq9MySRT7Zz0K5374Ac46C55/HrbbLvT62qZN0lE558jszuxvJK1JuNR1xZTpI7MZmKsjzKBnTzj3XJg3D669Fi6+GFZaKenInHNRJpfHdiXcFPclsWNAauGGO+f49lv473/htdfC0KSPPBJ6fXXO5ZVMqp7+Q+hqfGG2g3F1xNKlYYS5Sy4JJYq77grtEvXqJR2Zc64cmSSKcUBj4Mcsx+Lqgs8/D1c0vf8+/O1voRO/Vq2Sjso5l0YmieIGYJSkcaSMQ2FmftOcy9zixXDbbcuuYnrsMTjuOO9+w7kCkEmieILQDfgnwNLshuOK0ujRofuNkSPhn/8M90Ssu27SUTnnMpRJovjNzO7KeiSu+CxYAF27wk03QdOmYWjSQw9NOirnXBVlkijel3QD0Jflq5788lhXsQ8/DKWIzz4LVUzdusFaayUdlXOuGjJJFDvEv7ukTPPLY1355s2Dyy+He+6B5s3h9ddhv/2Sjso5VwOZ3HBX03EpXF3xxhvQuXO4P+KMM+D666Fhw6Sjcs7VUCYlCiQdROhevH7pNDO7JltBuQLz889wwQXw+OOw+ebw3nuw++5JR+WcqyWV9h4r6QHgcOAsQMC/CWNoOwcvvACtW4cxIi67LFzh5EnCuaKSSTfju5rZscAsM7saaAdslt2wXN77/ns47LDwWHddGDYsVDXVr1/5us65gpJJopgf//4maT1gEeAXwddVZqGKqXVr6NcvDCY0dCjssEOlqzrnClMmbRT9JDUGbgFGEq54eiirUbn89PXXcOqpodF6993h4YdDm4RzrqhlctVT1/j0BUn9gPpmNie7Ybm8snRpuJv6sstClxv33AOnnQYrZFIgdc4Vugr/0yXtJGmdlNfHAr2ArpL8zqm64rPPYM894eyzQyli3Lhw6asnCefqjHT/7Q8CCwEk7QncCDwJzAG6Zz80l6hFi0Lj9HbbwYQJ8MQTYdyIln7Bm3N1Tbqqp3pm9nN8fjjQ3cxeIFRBjc5+aC4xI0eG7jdGj4Z//xvuvhv+8peko3LOJSRdiaKepNJEsg/wdsq8jG7UcwVm/vzQDrHzzuHy1xdfhF69PEk4V8el+8J/BnhX0kzCJbLvA0jahFD95IrJBx+EUsTnn8OJJ8Ktt8KaayYdlXMuD1SYKMzsOkkDCfdMvGFmpeNlr0C4S9sVg7lzQyni3nvDSHNvvgn77pt0VM65PJK2CsnMhpQz7fPsheNy6rXXwn0RU6fCOefAtdfC6qsnHZVzLs/4NY510U8/wbHHwoEHhsQweDDccYcnCedcuTxR1CVm8PzzofuNZ56B//0PRo2Cdu2Sjsw5l8f86qW6Yvp0OP106NMH2rQJ3XBst13SUTnnCoCXKIqdGTz6KGy5ZRht7uabYcgQTxLOuYx5iaKYTZ4cGqvfeit0w/HQQ7CZ9xDvnKsaL1EUoyVLQuP0NtvAxx/D/ffDO+94knDOVYuXKIrNhAnhxrkhQ+CAA+DBB6F586Sjcs4VMC9RFIuFC6Fr1zCA0BdfQM+e8OqrniScczWW1UQhaX9JEyVNknRpOfPPlzRB0lhJAyV516TVMXw47LQTXHkl/OtfoVRx9NFh7AjnnKuhrCUKSfWAe4EDgNbAkZJal1lsFFBiZtsCvYGbsxVPUZo/Hy6+GNq2hZkz4eWXw/0Ra6+ddGTOuSKSzRLFzsAkM5tsZguBZ4GOqQuY2Ttm9lt8OQTYIIvxFJd334Vtt4VbbgltEuPHQ4cOSUflnCtC2UwU6wNTUl5PjdMqchLwWnkzJHWWNFzS8BkzZtRiiAXol1/CMKTt24chSgcOhO7doXHjpCNzzhWpvGjMltQJKAFuKW++mXU3sxIzK2nWrFlug8snr74KW20VEsP558PYsbD33klH5ZwrctlMFNOA1EtuNojTliNpX+AKoIOZ/Z7FeArXzJnQqRMcfDCssQZ8+CHcdhustlrSkTnn6oBsJophwKaSNpS0MnAE0Dd1AUk7EMbm7mBmP2YxlsJkBs8+G7rf6NULunQJw5S2bZt0ZM65OiRrN9yZ2WJJZwIDgHrAo2Y2XtI1wHAz60uoalodeF7hUs5vzcxbZAGmTQud+PXtGy59feSRcKe1c87lWFbvzDaz/kD/MtOuTHnuQ6mVZQYPPwwXXgiLFoUhSc89F+rVSzoy51wd5V145JMvv4RTTgn9MrVvHzrx22STpKNyztVxeXHVU523ZAl06xaqlkaMCP0zDRzoScI5lxe8RJG0cePCDXNDh4armu6/Hzbw+w6dc/nDSxRJWbgQrr4adtwxjBvxzDOh4dqThHMuz3iJIglDh4ZSxLhxcNRRcOed0LRp0lE551y5vESRS7/9BhdcAO3awaxZ8Mor8NRTniScc3nNSxS58s47cPLJy4YnvemmcJe1c87lOS9RZNucOdC5c+iTSQoJ44EHPEk45wqGJ4pseuUVaN063FV90UWhE7/27ZOOyjnnqsQTRTbMmAFHHhnGh2jSBD7+GG6+GRo0SDoy55yrMk8UtckMnn46dOL3wgtwzTVhmNKSkqQjc865avPG7NoyZUoYUOjVV0Pvro88EsaOcM65AuclippaujQ0Tm+1VWiovv12GDzYk4Rzrmh4iaImvvgidOL37ruwzz5h5LmNNko6Kuecq1VeoqiOxYvhlltg221h9OjQLfibb3qScM4VJS9RVNXYsaH7jeHDoWNHuO8+WG+9pKNyzrms8RJFpn7/Ha68Etq0gW+/DUOTvvSSJwnnXNHzEkUmPvoolCI+/RSOOSY0WDdpknRUzjmXE16iSOfXX8MwpLvtBvPmQf/+8OSTniScc3WKlygq8tZb4Yqmr7+G00+HG26ARo2Sjso553LOSxRlzZ4dqpn+9jdYaaVw6eu993qScM7VWZ4oUvXpEzrxe+IJuPRSGDMG9twz6aiccy5RXvUE8MMPcNZZ8PzzsN12odfXNm2Sjso55/JC3S5RmIXG6S23hJdfhuuug2HDPEk451yKului+PbbMNLc66+HoUkfeSQkDOecc8upeyWKpUtD4/RWW8H778Ndd4W/niScc65cdatEMXFiGLf6gw/CVU3du0OrVklH5Zxzea1ulCgWL4YbbwwN1ePGwWOPwYABniSccy4DxV+iGD063BcxciT861+h2mmddZKOyjnnCkbxligWLIArrgjDkE6bBr17h+FJPUk451yVFGeJYvDgUIqYOBGOOw66dYO11ko6KuecK0jFVaKYNw/OPhv22APmzw+Xvj7+uCcJ55yrgeJJFG+8AVtvDffcA2eeGRqt99sv6aicc67gFX6i+PlnOOGEkBTq1192b0TDhklH5pxzRaGwE8ULL4RO/Hr0gMsvD1c47bZb0lE551xRyWqikLS/pImSJkm6tJz5q0h6Ls7/WFKrjDY8fToceigcdlgYinT4cJ5qfR2ttqjPCiuE2yOeemr5VZ56KkyvaH4my+T7/HyIwY+h9rbhXN4ws6w8gHrAl8BGwMrAGKB1mWVOBx6Iz48Anqtsu21atTJr3NhslVXMbrjBbOFC69nTrEEDs9DLX3g0aGDWs6eZmVU6P5Nl8n1+PsTgx1B723CutgHDrbrf59VdsdINQztgQMrry4DLyiwzAGgXn68IzASUbrttwGz33c0+++yPE9Cy5fL/dKWPli0zm18b20h6fj7E4MdQe9twrrbVJFEorF/7JB0G7G9mJ8fXxwBtzezMlGXGxWWmxtdfxmVmltlWZ6BzfLk1MG75vaXrF3zEiMrn18Y2kp4PycfgxxD+1sY2aqQp4UeX83ORanMzq9ZVPgVxw52ZdQe6A0gabmYlCYeUF/xcLOPnYhk/F8v4uVhG0vDqrpvNxuxpQPOU1xvEaeUuI2lFYA3gpyzG5JxzroqymSiGAZtK2lDSyoTG6r5llukLHBefHwa8bdmqC3POOVctWat6MrPFks4kNFjXAx41s/GSriE0qvQFHgF6SJoE/ExIJpXpnq2YC5Cfi2X8XCzj52IZPxfLVPtcZK0x2znnXHEo7DuznXPOZZ0nCuecc2nlbaLIWvcfBSiDc3G+pAmSxkoaKKllEnHmQmXnImW5QyWZpKK9NDKTcyHpP/GzMV7S07mOMVcy+B9pIekdSaPi/8mBScSZbZIelfRjvEetvPmSdFc8T2Ml7ZjRhqt7p142H2Sp+49CfGR4LvYCGsTnp9XlcxGXawi8BwwBSpKOO8HPxabAKGDN+HrtpONO8Fx0B06Lz1sDXycdd5bOxZ7AjsC4CuYfCLwGCNgF+DiT7eZriWJnYJKZTTazhcCzQMcyy3QEnojPewP7SFIOY8yVSs+Fmb1jZr/Fl0MI96wUo0w+FwBdgZuABbkMLscyORenAPea2SwAM/sxxzHmSibnwoBG8fkawHc5jC9nzOw9whWkFekIPGnBEKCxpHUr226+Jor1gSkpr6fGaeUuY2aLgTlAk5xEl1uZnItUJxF+MRSjSs9FLEo3N7NXcxlYAjL5XGwGbCZpsKQhkvbPWXS5lcm5uAroJGkq0B84Kzeh5Z2qfp8ABdKFh8uMpE5ACfDXpGNJgqQVgG7A8QmHki9WJFQ/tSeUMt+TtI2ZzU40qmQcCTxuZrdJake4f2trM1uadGCFIF9LFN79xzKZnAsk7QtcAXQws99zFFuuVXYuGhI6jRwk6WtCHWzfIm3QzuRzMRXoa2aLzOwr4HNC4ig2mZyLk4BeAGb2EVCf0GFgXZPR90lZ+ZoovPuPZSo9F5J2AB4kJIlirYeGSs6Fmc0xs6Zm1srMWhHaazqYWbU7Q8tjmfyP9CGUJpDUlFAVNTmXQeZIJufiW2AfAElbEhLFjJxGmR/6AsfGq592AeaY2fTKVsrLqifLXvcfBSfDc3ELsDrwfGzP/9bMOiQWdJZkeC7qhAzPxQDg75ImAEuAi8ys6ErdGZ6LC4CHJJ1HaNg+vhh/WEp6hvDjoGlsj+kCrARgZg8Q2mcOBCYBvwEnZLTdIjxXzjnnalG+Vj0555zLE54onHPOpeWJwjnnXFqeKJxzzqXlicI551xanihc1khqIml0fHwvaVp8PjtespnLWA6R1Drl9TXxJsWqbqdVeT1zxunz4/FNkPRAvFM80+1eJenCmsYR5z1ceqySvo73UCDpw5R1j0pZvkTSXZnu29U9nihc1pjZT2a2vZltDzwA3B6fbw/UetcJ8Q79ihxC6DW0NLYrzeytWg7hy3h828Z9HVKF+GqNmZ1sZn9KxGa2a3zaCjgqZfpwMzs7F7G5wuSJwiWlnqSH4jgJb0haFUDSxpJelzRC0vuStojTW0l6W8vG3GgRpz8ef71/DNxc3vqSdgU6ALfEX/wbx/UOi9vYSdKHksZIGiqpYdzf+5JGxseuFRzHn8ROKj8ENpF0vKS+kt4GBkpaS1KfeBxDJG2bsup2kj6S9IWkU2Jsq8fjHSnpE0mpvaKuKOkpSZ9K6i2pQVxnkMrptkTSvPj0RmCPeC7Ok9ReUr+4zGoKYxoMVRi7oWOcvlWcNjrGXoxdgbiKJN1/uj/qxoPQe+eF8XkrYDGwfXzdC+gUnw8ENo3P2xK6ZgF4BTguPj8R6BOfPw70A+pVsv7jwGEp8TxO6PplZUK3FjvF6Y0IPRY0AOrHaZsS7vAtjf1Pff2nTo/rDgMOIHRQOBVYK867G+gSn+8NjE45P2OAVQl9EE0B1ouxNIrLNCXcUau4PwN2i/MeTTm/g4jjcABfA03j83nxb3ugX0rsf7wGrk95LxoT+odaLcZ9dJy+MrBq0p8pf+TukZddeLg64SszGx2fjwBaSVod2JVlXZEArBL/tgP+FZ/3AG5O2dbzZrakkvUrsjkw3cyGAZjZLxB+WQP3SNqe0P3FZhkc08aSRhO+wF82s9ckHQ+8aWalYwTsDhwa9/V2bMcpHSfhZTObD8yX9A5hnIVXgesl7Umorlsf+EtcfoqZDY7PewJnA7dmEGc6fwc6pLSX1AdaAB8BV0jaAHjRzL6o4X5cAfFE4ZKS2sPtEsIv6RWA2Rbq+avi1/i3uuuX5zzgB2C7uN1MBkH6soJ9/1rOtPKU7U/HgKOBZkAbM1uk0Ctu/TTL15SAQ81sYpnpn8bqvYOA/pJONbO3a2F/rgB4G4XLG/HX/FeS/g1/jO+7XZz9Ics6fjwaeL+K688ldENe1kRgXUk7xXUaalm39dMtjFdwDKGzudrwfowfSe2BmaWlGKCjpPqSmhCqg4bFOH6MSWIvIHU89BYKYytAaJz+IMMYKjoXEDrWO0uxSKbQMzGSNgImm9ldwMuEBntXR3iicPnmaOAkSWOA8Swb0vIs4ARJYwlf3OdUcf1ngYtiA+3GpQtbGDrzcODuuM6bhF/s9wHHxWlbkHmpoDJXAW3icdzIsq7yAcYC7xC6R+9qZt8BTwElkj4BjgU+S1l+InCGpE+BNYH7M4xhLLAkNt6fV2ZeV0Jvo2MljY+vAf4DjItVa1sDT2a4L1cEvPdY55xzaXmJwjnnXFqeKJxzzqXlicI551xaniicc86l5YnCOedcWp4onHPOpeWJwjnnXFr/DygOoaBIYFTcAAAAAElFTkSuQmCC\n"
          },
          "metadata": {
            "needs_background": "light"
          }
        }
      ],
      "source": [
        "mba_salary_resid = mba_salary_lm.resid  ## check for normal distn of residual\n",
        "probplot = sm.ProbPlot (mba_salary_resid)\n",
        "plt.figure(figsize = (8,6))\n",
        "probplot.ppplot(line='45')\n",
        "plt.title(\"Noramal P-P Plot of Regression Standardized Residuals\")\n",
        "plt.show()"
      ]
    },
    {
      "cell_type": "code",
      "execution_count": 17,
      "metadata": {
        "id": "_SjBg7vLJam3"
      },
      "outputs": [],
      "source": [
        "## Test of homoscedasticity\n",
        "def get_standardized_values (vals):\n",
        "  return (vals - vals.mean())/vals.std()"
      ]
    },
    {
      "cell_type": "code",
      "execution_count": 18,
      "metadata": {
        "colab": {
          "base_uri": "https://localhost:8080/",
          "height": 295
        },
        "id": "Ka1-u8LfKGDE",
        "outputId": "f064e109-41b1-4198-ca47-22d17051f46a"
      },
      "outputs": [
        {
          "output_type": "display_data",
          "data": {
            "text/plain": [
              "<Figure size 432x288 with 1 Axes>"
            ],
            "image/png": "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\n"
          },
          "metadata": {
            "needs_background": "light"
          }
        }
      ],
      "source": [
        "plt.scatter(get_standardized_values(mba_salary_lm.fittedvalues),\n",
        "            get_standardized_values(mba_salary_resid))\n",
        "plt.title(\"Residual Plot\");\n",
        "plt.xlabel(\"Standardized predictive values\")\n",
        "plt.ylabel(\"Standardized Residuals\");"
      ]
    },
    {
      "cell_type": "code",
      "source": [
        "## Finding R-Squared and RMSE\n",
        "pred_y = mba_salary_lm.predict(test_X) \n",
        "from sklearn.metrics import r2_score, mean_squared_error"
      ],
      "metadata": {
        "id": "giTzurqrQabL"
      },
      "execution_count": 23,
      "outputs": []
    },
    {
      "cell_type": "code",
      "source": [
        "np.abs(r2_score(test_Y, pred_y))\n",
        "## So, the model only explains 15.6% of the variance in the validation set."
      ],
      "metadata": {
        "colab": {
          "base_uri": "https://localhost:8080/"
        },
        "id": "5a6axzJIQhP3",
        "outputId": "855260cb-af59-4a64-9beb-0c1bdf293956"
      },
      "execution_count": 24,
      "outputs": [
        {
          "output_type": "execute_result",
          "data": {
            "text/plain": [
              "0.156645849742304"
            ]
          },
          "metadata": {},
          "execution_count": 24
        }
      ]
    },
    {
      "cell_type": "code",
      "source": [
        "import numpy\n",
        "np.sqrt(mean_squared_error(test_Y, pred_y))"
      ],
      "metadata": {
        "colab": {
          "base_uri": "https://localhost:8080/"
        },
        "id": "jq06MYmoQh-c",
        "outputId": "2e270743-a0ef-470c-e33a-1225ed6bc939"
      },
      "execution_count": 25,
      "outputs": [
        {
          "output_type": "execute_result",
          "data": {
            "text/plain": [
              "73458.04348346895"
            ]
          },
          "metadata": {},
          "execution_count": 25
        }
      ]
    },
    {
      "cell_type": "code",
      "source": [],
      "metadata": {
        "id": "eHbdIReNQ4CL"
      },
      "execution_count": null,
      "outputs": []
    },
    {
      "cell_type": "code",
      "execution_count": null,
      "metadata": {
        "id": "ZzEAa9Q_KnkM"
      },
      "outputs": [],
    
